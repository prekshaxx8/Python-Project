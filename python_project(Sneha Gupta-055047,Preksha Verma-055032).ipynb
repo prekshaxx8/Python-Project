{
 "cells": [
  {
   "cell_type": "markdown",
   "id": "fba5e1aa-1d21-46de-8cc4-03e814ebdf3a",
   "metadata": {},
   "source": [
    "# **Project Report on Imports and Exports Data Analysis**"
   ]
  },
  {
   "cell_type": "markdown",
   "id": "9cb4a83e-956b-4463-a9c3-6ae1ba937b9b",
   "metadata": {},
   "source": [
    "\n",
    "### * **Project Title**: Comprehensive Data Analysis of Imports and Exports Dataset\n",
    "### * **Student Name**: Preksha Verma, Sneha Gupta\n",
    "### * **Enrollment Number** : 055032 , 055047\n",
    "### * **Project Information** : This project contains a detailed dataset and analysis of international trade transactions, providing extensive information on both imports and exports. Designed for use in business analytics, economic research, and financial modeling, it offers a broad view of trade activities with numerous attributes that capture various dimensions of each transaction."
   ]
  },
  {
   "cell_type": "markdown",
   "id": "346c317c-ba26-4eb5-baac-63e11d438999",
   "metadata": {},
   "source": [
    "# Description of Data**\n",
    "\n",
    "* **1.Data Source & Size:**\n",
    "\n",
    "* Source: The dataset for this project was obtained from Kaggle.(https://www.kaggle.com/datasets/chakilamvishwas/imports-exports-15000)\n",
    "* Size: 15,000 records with 16 variables. (2.69 MB)\n",
    "  \n",
    "  \n",
    "* **2. Data Type:**\n",
    "This is a Cross-sectional dataset, capturing transactional data at a specific point in time.\n",
    "\n",
    "\n",
    "  **3.Data Dimension:**\n",
    "\n",
    "* Number of Variables: 16\n",
    "* Number of Observations: 15,000\n",
    "  \n",
    "  \n",
    "* **4.Data Variable Type:**\n",
    "\n",
    "* Text Variables:\n",
    "Transaction_ID, Country, Product, Import_Export, Date, Category, Port, Shipping_Method, Supplier, Customer, Payment_Terms\n",
    "* Number Variables:\n",
    "Integer: Quantity, Customs_Code, Invoice_Number\n",
    "* Decimal: Value, Weight\n",
    "\n",
    "\n",
    "* **5.Data Variable Category : Identifying Categorical (Nominal & Ordinal) and Non - Categorical Data**\n",
    "\n",
    "|Sr. No. | Data Variable | Category |\n",
    "| --- | --- | --- |\n",
    "| 1. | Transaction ID | Index (used for identifying each transaction)\n",
    "| 2. | Country | Categorical {Nominal}\n",
    "| 3. | Product | Categorical {Nominal}\n",
    "| 4. | Import Export | Categorical {Nominal}\n",
    "| 5. | Quantity | Non-Categorical\n",
    "| 6. | Value | Non-Categorical\n",
    "| 7. | Category | Categorical {Nominal}\n",
    "| 8. | Port | Categorical {Nominal}\n",
    "| 9.| Customs Code | Non-Categorical\n",
    "| 10.| Weight | Non-Categorical\n",
    "| 11.| Shipping Method | Categorical {Nominal} \n",
    "| 12.| Supplier | Categorical {Nominal} \n",
    "| 13.| Customer | Categorical {Nominal} \n",
    "| 14.| Invoice Number | Index (used for identifying each transaction)\n",
    "| 15.| Payment Terms | Categorical {Nominal}"
   ]
  },
  {
   "cell_type": "markdown",
   "id": "73e09303-31ea-44cc-a9be-cb4f564219db",
   "metadata": {},
   "source": [
    "# Project Objectives | Problem Statements\n",
    "\n",
    "* Objective 1: Identify key trends in import and export activities across different countries and product categories.\n",
    "* Objective 2: Understand the distribution of transaction values and quantities across various categories.\n",
    "* Objective 3: Analyze the most frequently used shipping methods and their relationship to transaction value and weight.\n",
    "* Objective 4: Find the minimum and maximum value of each variable.\n",
    "* Objective 5: Finding Average order value  and quantity per country \n",
    "* Objective 6: Finding Maximum Weight in KGs by Shipping Method and Category\n",
    "* Objective 7: Finding Count of products by their payment terms per Category\n",
    "* Objective 8: Ranking categories by the total economic impact (Value), higher value gets a higher rank\n",
    "  \n",
    "* Problem Statement 1: How do different countries vary in terms of the volume and value of imports and exports?\n",
    "* Problem Statement 2: Are there specific product categories that dominate in terms of trade volume and value?\n",
    "* Problem Statement 3: What are the most commonly used shipping methods for high-value transactions?\n",
    "* Problem Statemnet 4: Identify the range of values and outliers in the dataset\n",
    "* Problem Statemnet 5: Identify comparison of different countries in terms of purchasing behavior, helping to tailor marketing                        strategies or identify high-value markets.\n",
    "* Problem Statemnet 6: Assess which shipping methods are handling heavier products and which categories have the largest or                           heaviest product.\n",
    "* Problem Statemnet 7: Give insights into the preferred payment terms by category and can help in optimizing payment options                          for different product lines.\n",
    "* Problem Statemnet 8: Rank product categories based on their total economic impact. The categories with the highest total                            economic impact should be given the highest rank. "
   ]
  },
  {
   "cell_type": "markdown",
   "id": "9dc8fec8-36a1-4006-a13e-e1602583643d",
   "metadata": {},
   "source": [
    "# Analysis:\n",
    "**Positive Linear Relationship**: The positive coefficient for the linear term suggests that, in general, higher quantities are associated with higher values. This is intuitive, as larger quantities often correspond to larger transaction values.\n",
    "\n",
    "**Diminishing Returns**: The negative quadratic term suggests a diminishing return effect. As the quantity increases further, the rate of increase in value slows down. This could be due to various factors such as bulk discounts or diminishing marginal returns in pricing or value.\n",
    "\n",
    "**Model Fit**: The coefficients indicate a polynomial relationship that fits the data from the top 5 countries. However, further evaluation (e.g., R-squared value or residual analysis) is needed to assess the model’s goodness-of-fit and ensure that it adequately captures the relationship.\n"
   ]
  },
  {
   "cell_type": "markdown",
   "id": "c41228b0-17d5-452b-b046-e91edafb9834",
   "metadata": {},
   "source": [
    "# Observations | Findings\n",
    "\n",
    "#### Import/Export Trends: \n",
    "\n",
    "Significant variation was observed across countries in terms of both volume and value of imports and exports. Some countries focus more on exports while others have higher import activities, potentially highlighting trade imbalances or specialization in certain industries.\n",
    "\n",
    "#### Dominant Product Categories: \n",
    "\n",
    "Certain product categories showed a high volume and value of transactions. These categories potentially drive the bulk of trade in the dataset.\n",
    "\n",
    "#### Minimum and Maximum variables :\n",
    "\n",
    "\n",
    "|  **Minimmum**      |     **Value**       |\r\n",
    "|-----------------|---------------------|\r\n",
    "| **Country**     | Afghanistan          |\r\n",
    "| **Product**     | American             |\r\n",
    "| **Import_Export** | Export              |\r\n",
    "| **Category**    | Clothing             |\r\n",
    "| **Port**        | Aaronborough         |\r\n",
    "| **Shipping_Method** | Air               |\r\n",
    "| **Supplier**    | Abbott LLC           |\r\n",
    "| **Customer**    | Aaron Barnes         |\r\n",
    "| **Payment_Terms** | Casery  h\n",
    "\n",
    "\n",
    "\n",
    "\n",
    "| **Maximum**     | **Value**           |\r\n",
    "|-----------------|---------------------|\r\n",
    "| **Country**     | Zimbabwe            |\r\n",
    "| **Product**     | yourself            |\r\n",
    "| **Import_Export** | Import             |\r\n",
    "| **Category**    | Toys                |\r\n",
    "| **Port**        | Zacharyland         |\r\n",
    "| **Shipping_Method** | Sea              |\r\n",
    "| **Supplier**    | Zimmerman Ltd       |\r\n",
    "| **Customer**    | Zoe Martin          |\r\n",
    "| **Payment_Terms** |   94.\r\n",
    "t $1,906,792.94.\r\n",
    "ompared to the other categories."
   ]
  },
  {
   "cell_type": "markdown",
   "id": "fea3c8bb-29e8-4404-a71d-76dc60b475eb",
   "metadata": {},
   "source": [
    "\n",
    "\n",
    "#### Shipping Methods: \n",
    "The most frequently used shipping methods were identified. High-value transactions often used faster and more secure shipping options, while lower-value transactions relied on slower, cost-effective methods.\n",
    "\n",
    "#### Finding Average order value and quantity:\n",
    "\n",
    "The country Cuba has the highest average transaction value and quantity among the top 5 countries. This indicates that the country deals with high-value and large-quantity goods in each transaction.\n",
    "\n",
    "Antigua and Barbuda has the second-highest average transaction value. The high quantity might be due to bulk imports or exports, as Antigua and Barbuda logistics usually involve large consignments.\n",
    "\n",
    "Barbados’s average value is relatively high, but the quantity is lower compared to other countries on the list. This suggests that Norway may engage in high-value goods that don’t require large volumes (e.g., electronics or specialized equipment).\n",
    "\n",
    "Cote d'Ivoire's average transaction value is also high, but with a lower quantity compared to other countries. This pattern could indicate trade in niche, high-value goods or materials.\n",
    "\n",
    "Congo’s average value and quantity suggest a balanced trade, where both value and volume are significant.\n",
    "\n",
    "#### Finding Maximum Weight in KGs by Shipping Method and Category\n",
    "\n",
    "-   **Clothing:** The maximum weight for clothing is consistently around 4890-4990 kgs, with land shipping showing the highest value at 4992.70 kgs.\n",
    "-   **Electronics:** Electronics have a consistent maximum weight range of 4930-4990 kgs, with sea shipping showing the highest value at 4990.24 kgs.\n",
    "-   **Furniture:** Furniture shows a slight variation, with land shipping having the lowest maximum weight at 4921.09 kgs, while air shipping has the highest at 4992.64 kgs.\n",
    "-   **Machinery:** Machinery's maximum weight is relatively high across all methods, with sea shipping showing the highest value at 4982.90 kgs.\n",
    "-   **Toys:** Toys have a consistent maximum weight range of 4950-4990 kgs, with air shipping showing the highest value at 4989.08 kgs.\n",
    "\n",
    "\n",
    "#### Finding Count of products by their payment terms per Category\n",
    "\n",
    "-   **Payment Term Distribution:** Across all categories, Net 30 and Net 60 are commonly used payment terms, with some variations based on category.\n",
    "-   **Category Variations:** There are clear variations in payment term preferences among different categories.\n",
    "-   **Cash on Delivery (COD):** Clothing and Furniture have higher proportions of COD transactions (90 and 105 respectively), compared to Electronics (93), Machinery (100), and Toys (100).\n",
    "-   **Net 30:** Electronics and Machinery show higher preferences for Net 30 payments, with values of 110 and 106 respectively.\n",
    "-   **Net 60 and Prepaid:** These payment terms vary significantly, with Electronics preferring Prepaid (120), and Toys showing a balanced distribution across payment terms.\n",
    "\n",
    "\n",
    "#### Categories Ranked by Total Economic Impact (Value), with Higher Values Receiving Higher Ranks\n",
    "\n",
    "- **Top Impact Category**:\n",
    "    - **Electronics** leads as the category with the highest total economic impact.\n",
    "\n",
    "- **Mid Impact Categories**:\n",
    "    - **Clothing** follows Electronics, ranking second in economic impact.\n",
    "    - **Furniture** ranks third.\n",
    "\n",
    "- **Lower Impact Categories**:\n",
    "    - **Toys** ranks just below Furniture in fourth place.\n",
    "    - **Machinery** records the lowest economic impact.\n",
    "\n",
    "### Notable Insights:\n",
    "\n",
    "- The economic impact shows considerable variation across different categories.\n",
    "- **Electronics** boasts the highest economic impact, totaling USD 2,287,246.81.\n",
    "- In contrast, **Machinery** reflects the lowest economic impact, with a total of USD 1,906,792.94."
   ]
  },
  {
   "cell_type": "markdown",
   "id": "71fbc5f4-71fc-4d52-b561-f9ed072a9119",
   "metadata": {},
   "source": [
    "# Managerial Insights\n",
    "\n",
    "### Overall Trade Patterns\n",
    "\n",
    "#### Trade Imbalances:\n",
    "\n",
    "- Analyze the volumes of imports and exports to detect possible trade imbalances.\n",
    "- Consider comparative advantages and market demand for various goods and services.\n",
    "\n",
    "#### Product Specialization:\n",
    "\n",
    "- Identify the key product categories prevalent in the dataset.\n",
    "- Examine the factors that contribute to product specialization, including natural resources and labor skills.\n",
    "\n",
    "### Shipping and Logistics\n",
    "\n",
    "#### Shipping Method Optimization:\n",
    "\n",
    "- Assess the appropriateness of various shipping methods based on the value and characteristics of the products.\n",
    "- Reduce shipping costs by choosing the most efficient method for each delivery.\n",
    "\n",
    "#### Shipping Costs:\n",
    "\n",
    "- Understand the maximum weight limits for different shipping methods and product categories.\n",
    "- Utilize this information to optimize shipping expenses and avoid unnecessary costs.\n",
    "\n",
    "### Payment Terms\n",
    "\n",
    "#### Credit Risk Assessment:\n",
    "\n",
    "- Evaluate the creditworthiness of customers prior to extending credit.\n",
    "- Implement effective practices for managing credit risk.\n",
    "\n",
    "#### Industry-Specific Preferences:\n",
    "\n",
    "- Consider industry-specific factors that may influence preferences for payment terms.\n",
    "- Tailor payment terms to align with the needs of various industries.\n",
    "\n",
    "### Economic Impact\n",
    "\n",
    "#### Category-Specific Economic Importance:\n",
    "\n",
    "- Analyze the economic significance of different product categories.\n",
    "- Identify industries that are key drivers of trade and economic activity.\n",
    "\n",
    "#### Economic Diversification:\n",
    "\n",
    "- Evaluate the economic diversification of countries.\n",
    "- Identify potential areas for growth and development.\n",
    "\n",
    "### Recommendations for Managers\n",
    "\n",
    "#### Trade Balance Analysis:\n",
    "\n",
    "- Regularly monitor import and export activities to identify trade imbalances.\n",
    "- Explore diversification opportunities to rectify these imbalances.\n",
    "\n",
    "#### Product Specialization:\n",
    "\n",
    "- Utilize comparative advantages to focus on high-value products.\n",
    "- Identify and seize market opportunities.\n",
    "\n",
    "#### Shipping Optimization:\n",
    "\n",
    "- Continuously review shipping methods and choose the most efficient options available.\n",
    "- Optimize shipping costs to enhance profitability.\n",
    "\n",
    "#### Credit Risk Management:\n",
    "\n",
    "- Establish strong credit risk management processes.\n",
    "- Minimize the risk of incurring bad debts.\n",
    "\n",
    "#### Payment Term Negotiation:\n",
    "\n",
    "- Negotiate payment terms based on industry norms, credit risk, and transaction characteristics.\n",
    "- Aim for favorable payment terms to enhance cash flow.\n",
    "\n",
    "#### Economic Impact Assessment:\n",
    "\n",
    "- Regularly evaluate the economic impact of various product categories.\n",
    "- Identify growth opportunities and potential risks.\n",
    "\n",
    "By adopting these recommendations, businesses can make informed decisions to optimize their trade activities, enhance profitability, and mitigate risks.\n",
    "\n",
    "    "
   ]
  },
  {
   "cell_type": "markdown",
   "id": "4e245be0-b659-48cc-a471-7ccb47459b7a",
   "metadata": {},
   "source": [
    "# Recommendations\r\n",
    "\r\n",
    "### Data-Driven Decision-Making\r\n",
    "Regularly monitor and analyze trade data to identify emerging trends. Utilizing advanced analytics tools, such as predictive modeling, can further improve the accuracy of future trade forecasts.\r\n",
    "\r\n",
    "### Optimize Shipping Methods for Cost Efficiency\r\n",
    "For goods of lower value, businesses should consider more economical shipping options, such as consolidated shipping or forming partnerships with local carriers, to minimize costs.\r\n",
    "\r\n",
    "### Country-Specific Partnerships\r\n",
    "Establish strategic partnerships in countries with significant import/export activities to leverage local market trends. Collaborating with local firms through joint ventures or partnerships can enhance resource access and reduce operational expenses.\r\n"
   ]
  },
  {
   "cell_type": "markdown",
   "id": "0d786850-a3cf-4128-bbb1-160a1d3d9cf1",
   "metadata": {},
   "source": [
    "# Interpretation:\n",
    "**Intercept**:\n",
    "\n",
    "The intercept of 5252.53 represents the estimated Value when Quantity is zero. This provides a baseline value when the effect of Quantity is not considered.\n",
    "\n",
    "**Coefficients**:\n",
    "\n",
    "**Linear Term Coefficient (0.326)**: This coefficient indicates that there is a positive relationship between Quantity and Value. Specifically, for each unit increase in Quantity, the Value is expected to increase by approximately 0.326 units, assuming the quadratic effect is negligible.\n",
    "\n",
    "**Quadratic Term Coefficient**(-0.0000518): This negative coefficient for the quadratic term suggests that as Quantity increases, the effect of Quantity on Value starts to diminish. The negative curvature indicates that the relationship between Quantity and Value is not purely linear but has a diminishing effect at higher quantities.\n",
    "\n",
    "# Conclusion:\n",
    "The polynomial regression model demonstrates that for transactions from the top 5 countries, there is a general positive relationship between Quantity and Value, but with diminishing returns as Quantity increases. The model captures both the linear and quadratic effects, suggesting that while higher quantities lead to higher values, the rate of increase in value becomes less pronounced at larger quantities."
   ]
  },
  {
   "cell_type": "markdown",
   "id": "b6671f1a-0c51-40ce-9c7b-edb052f30858",
   "metadata": {},
   "source": [
    "# Importing Relevant Python Libraries.\n"
   ]
  },
  {
   "cell_type": "code",
   "execution_count": 1,
   "id": "10f5e30d",
   "metadata": {},
   "outputs": [],
   "source": [
    "import pandas as pd\n",
    "import numpy as np\n",
    "import seaborn as sns\n"
   ]
  },
  {
   "cell_type": "code",
   "execution_count": 8,
   "id": "b3ab6c98-3e32-4d3e-82fa-d5afbb57c4d5",
   "metadata": {},
   "outputs": [],
   "source": [
    "# Loading the Data.\n",
    "data = pd.read_csv(\"C:\\\\Users\\\\hp\\\\Desktop\\\\Term 1\\\\DEVP\\\\archive (2)\\\\dataset.csv\")"
   ]
  },
  {
   "cell_type": "code",
   "execution_count": 11,
   "id": "3da21b9c-3a91-41b5-b3d7-6101e39ebd4c",
   "metadata": {},
   "outputs": [
    {
     "data": {
      "text/plain": [
       "(15000, 16)"
      ]
     },
     "execution_count": 11,
     "metadata": {},
     "output_type": "execute_result"
    }
   ],
   "source": [
    "# Dimensions of Data.\n",
    "data.shape"
   ]
  },
  {
   "cell_type": "code",
   "execution_count": 13,
   "id": "eae41ff1-61bd-4412-b7ef-89d6eb1aef16",
   "metadata": {},
   "outputs": [],
   "source": [
    "# Creating an Unique Sample of 2001 Records using Student Roll Number as Random State.\n",
    "sample=data.sample(n=2001, random_state=55032)"
   ]
  },
  {
   "cell_type": "code",
   "execution_count": 15,
   "id": "18aaf9d9-94e5-4836-bd6c-9935fbc3ce95",
   "metadata": {},
   "outputs": [
    {
     "data": {
      "text/plain": [
       "(2001, 16)"
      ]
     },
     "execution_count": 15,
     "metadata": {},
     "output_type": "execute_result"
    }
   ],
   "source": [
    "# Dimensions of Sample Data.\n",
    "sample.shape"
   ]
  },
  {
   "cell_type": "code",
   "execution_count": 17,
   "id": "a275ff0d-1f47-45f5-83f7-062875ee8401",
   "metadata": {},
   "outputs": [
    {
     "name": "stdout",
     "output_type": "stream",
     "text": [
      "<class 'pandas.core.frame.DataFrame'>\n",
      "Index: 2001 entries, 14626 to 12668\n",
      "Data columns (total 16 columns):\n",
      " #   Column           Non-Null Count  Dtype  \n",
      "---  ------           --------------  -----  \n",
      " 0   Transaction_ID   2001 non-null   object \n",
      " 1   Country          2001 non-null   object \n",
      " 2   Product          2001 non-null   object \n",
      " 3   Import_Export    2001 non-null   object \n",
      " 4   Quantity         2001 non-null   int64  \n",
      " 5   Value            2001 non-null   float64\n",
      " 6   Date             2001 non-null   object \n",
      " 7   Category         2001 non-null   object \n",
      " 8   Port             2001 non-null   object \n",
      " 9   Customs_Code     2001 non-null   int64  \n",
      " 10  Weight           2001 non-null   float64\n",
      " 11  Shipping_Method  2001 non-null   object \n",
      " 12  Supplier         2001 non-null   object \n",
      " 13  Customer         2001 non-null   object \n",
      " 14  Invoice_Number   2001 non-null   int64  \n",
      " 15  Payment_Terms    2001 non-null   object \n",
      "dtypes: float64(2), int64(3), object(11)\n",
      "memory usage: 265.8+ KB\n"
     ]
    }
   ],
   "source": [
    "# Sample Data Information.\n",
    "sample.info()"
   ]
  },
  {
   "cell_type": "code",
   "execution_count": 19,
   "id": "2a9dae43-e316-4f3d-b5e6-fd96e33ca618",
   "metadata": {},
   "outputs": [
    {
     "data": {
      "text/html": [
       "<div>\n",
       "<style scoped>\n",
       "    .dataframe tbody tr th:only-of-type {\n",
       "        vertical-align: middle;\n",
       "    }\n",
       "\n",
       "    .dataframe tbody tr th {\n",
       "        vertical-align: top;\n",
       "    }\n",
       "\n",
       "    .dataframe thead th {\n",
       "        text-align: right;\n",
       "    }\n",
       "</style>\n",
       "<table border=\"1\" class=\"dataframe\">\n",
       "  <thead>\n",
       "    <tr style=\"text-align: right;\">\n",
       "      <th></th>\n",
       "      <th>Transaction_ID</th>\n",
       "      <th>Country</th>\n",
       "      <th>Product</th>\n",
       "      <th>Import_Export</th>\n",
       "      <th>Quantity</th>\n",
       "      <th>Value</th>\n",
       "      <th>Date</th>\n",
       "      <th>Category</th>\n",
       "      <th>Port</th>\n",
       "      <th>Customs_Code</th>\n",
       "      <th>Weight</th>\n",
       "      <th>Shipping_Method</th>\n",
       "      <th>Supplier</th>\n",
       "      <th>Customer</th>\n",
       "      <th>Invoice_Number</th>\n",
       "      <th>Payment_Terms</th>\n",
       "    </tr>\n",
       "  </thead>\n",
       "  <tbody>\n",
       "    <tr>\n",
       "      <th>14626</th>\n",
       "      <td>023fa0e1-14f7-4227-80a7-f32b9c9d4526</td>\n",
       "      <td>Germany</td>\n",
       "      <td>our</td>\n",
       "      <td>Export</td>\n",
       "      <td>1088</td>\n",
       "      <td>8651.59</td>\n",
       "      <td>16-12-2022</td>\n",
       "      <td>Furniture</td>\n",
       "      <td>West Alex</td>\n",
       "      <td>271900</td>\n",
       "      <td>4449.82</td>\n",
       "      <td>Land</td>\n",
       "      <td>Ball-Lopez</td>\n",
       "      <td>Monica Bryant</td>\n",
       "      <td>988577</td>\n",
       "      <td>Net 30</td>\n",
       "    </tr>\n",
       "    <tr>\n",
       "      <th>1913</th>\n",
       "      <td>f89ed0ff-2c8c-43fc-9759-b929ab9873c4</td>\n",
       "      <td>Mauritius</td>\n",
       "      <td>social</td>\n",
       "      <td>Import</td>\n",
       "      <td>1695</td>\n",
       "      <td>8720.44</td>\n",
       "      <td>4/10/2019</td>\n",
       "      <td>Furniture</td>\n",
       "      <td>West Neil</td>\n",
       "      <td>605760</td>\n",
       "      <td>2724.73</td>\n",
       "      <td>Land</td>\n",
       "      <td>Joseph, Hess and Clay</td>\n",
       "      <td>Kelly Hill</td>\n",
       "      <td>39775241</td>\n",
       "      <td>Net 30</td>\n",
       "    </tr>\n",
       "    <tr>\n",
       "      <th>14399</th>\n",
       "      <td>d44ba724-0e10-4b8e-8771-1a7ea931f804</td>\n",
       "      <td>Afghanistan</td>\n",
       "      <td>case</td>\n",
       "      <td>Import</td>\n",
       "      <td>761</td>\n",
       "      <td>9169.49</td>\n",
       "      <td>31-08-2022</td>\n",
       "      <td>Machinery</td>\n",
       "      <td>North Luis</td>\n",
       "      <td>270903</td>\n",
       "      <td>4784.35</td>\n",
       "      <td>Air</td>\n",
       "      <td>Jones-Simmons</td>\n",
       "      <td>Marcus Thompson</td>\n",
       "      <td>58701957</td>\n",
       "      <td>Prepaid</td>\n",
       "    </tr>\n",
       "    <tr>\n",
       "      <th>489</th>\n",
       "      <td>de386aeb-ea96-4be6-a99c-f16b5a7583c0</td>\n",
       "      <td>Turkey</td>\n",
       "      <td>community</td>\n",
       "      <td>Export</td>\n",
       "      <td>5265</td>\n",
       "      <td>3894.47</td>\n",
       "      <td>21-12-2022</td>\n",
       "      <td>Machinery</td>\n",
       "      <td>Lake Stacy</td>\n",
       "      <td>251444</td>\n",
       "      <td>804.72</td>\n",
       "      <td>Land</td>\n",
       "      <td>Gutierrez, Sullivan and Middleton</td>\n",
       "      <td>Kelsey Christensen</td>\n",
       "      <td>85046533</td>\n",
       "      <td>Net 60</td>\n",
       "    </tr>\n",
       "    <tr>\n",
       "      <th>4993</th>\n",
       "      <td>7e08a22e-2ddc-4d77-9479-543214d71c50</td>\n",
       "      <td>Anguilla</td>\n",
       "      <td>morning</td>\n",
       "      <td>Import</td>\n",
       "      <td>8879</td>\n",
       "      <td>9133.40</td>\n",
       "      <td>28-07-2024</td>\n",
       "      <td>Furniture</td>\n",
       "      <td>Codyberg</td>\n",
       "      <td>603591</td>\n",
       "      <td>3315.92</td>\n",
       "      <td>Land</td>\n",
       "      <td>Wilson Ltd</td>\n",
       "      <td>Zachary Whitaker</td>\n",
       "      <td>76199674</td>\n",
       "      <td>Cash on Delivery</td>\n",
       "    </tr>\n",
       "  </tbody>\n",
       "</table>\n",
       "</div>"
      ],
      "text/plain": [
       "                             Transaction_ID      Country    Product  \\\n",
       "14626  023fa0e1-14f7-4227-80a7-f32b9c9d4526      Germany        our   \n",
       "1913   f89ed0ff-2c8c-43fc-9759-b929ab9873c4    Mauritius     social   \n",
       "14399  d44ba724-0e10-4b8e-8771-1a7ea931f804  Afghanistan       case   \n",
       "489    de386aeb-ea96-4be6-a99c-f16b5a7583c0       Turkey  community   \n",
       "4993   7e08a22e-2ddc-4d77-9479-543214d71c50     Anguilla    morning   \n",
       "\n",
       "      Import_Export  Quantity    Value        Date   Category        Port  \\\n",
       "14626        Export      1088  8651.59  16-12-2022  Furniture   West Alex   \n",
       "1913         Import      1695  8720.44   4/10/2019  Furniture   West Neil   \n",
       "14399        Import       761  9169.49  31-08-2022  Machinery  North Luis   \n",
       "489          Export      5265  3894.47  21-12-2022  Machinery  Lake Stacy   \n",
       "4993         Import      8879  9133.40  28-07-2024  Furniture    Codyberg   \n",
       "\n",
       "       Customs_Code   Weight Shipping_Method  \\\n",
       "14626        271900  4449.82            Land   \n",
       "1913         605760  2724.73            Land   \n",
       "14399        270903  4784.35             Air   \n",
       "489          251444   804.72            Land   \n",
       "4993         603591  3315.92            Land   \n",
       "\n",
       "                                Supplier            Customer  Invoice_Number  \\\n",
       "14626                         Ball-Lopez       Monica Bryant          988577   \n",
       "1913               Joseph, Hess and Clay          Kelly Hill        39775241   \n",
       "14399                      Jones-Simmons     Marcus Thompson        58701957   \n",
       "489    Gutierrez, Sullivan and Middleton  Kelsey Christensen        85046533   \n",
       "4993                          Wilson Ltd    Zachary Whitaker        76199674   \n",
       "\n",
       "          Payment_Terms  \n",
       "14626            Net 30  \n",
       "1913             Net 30  \n",
       "14399           Prepaid  \n",
       "489              Net 60  \n",
       "4993   Cash on Delivery  "
      ]
     },
     "execution_count": 19,
     "metadata": {},
     "output_type": "execute_result"
    }
   ],
   "source": [
    "# First 05 Records of the Sample Data\n",
    "sample.head(5)"
   ]
  },
  {
   "cell_type": "code",
   "execution_count": 21,
   "id": "8715946c-e386-4490-a524-d396da4f96e1",
   "metadata": {},
   "outputs": [
    {
     "data": {
      "text/plain": [
       "Index(['Transaction_ID', 'Country', 'Product', 'Import_Export', 'Quantity',\n",
       "       'Value', 'Date', 'Category', 'Port', 'Customs_Code', 'Weight',\n",
       "       'Shipping_Method', 'Supplier', 'Customer', 'Invoice_Number',\n",
       "       'Payment_Terms'],\n",
       "      dtype='object')"
      ]
     },
     "execution_count": 21,
     "metadata": {},
     "output_type": "execute_result"
    }
   ],
   "source": [
    "# Names of Variables\n",
    "sample.columns"
   ]
  },
  {
   "cell_type": "markdown",
   "id": "31e68c96-fe0a-42b3-a409-cfa9e5788409",
   "metadata": {},
   "source": []
  },
  {
   "cell_type": "code",
   "execution_count": 24,
   "id": "9465c6ff-0c76-4ff1-a800-0ebb55b38a47",
   "metadata": {},
   "outputs": [
    {
     "data": {
      "text/html": [
       "<div>\n",
       "<style scoped>\n",
       "    .dataframe tbody tr th:only-of-type {\n",
       "        vertical-align: middle;\n",
       "    }\n",
       "\n",
       "    .dataframe tbody tr th {\n",
       "        vertical-align: top;\n",
       "    }\n",
       "\n",
       "    .dataframe thead th {\n",
       "        text-align: right;\n",
       "    }\n",
       "</style>\n",
       "<table border=\"1\" class=\"dataframe\">\n",
       "  <thead>\n",
       "    <tr style=\"text-align: right;\">\n",
       "      <th></th>\n",
       "      <th>Quantity</th>\n",
       "      <th>Value</th>\n",
       "      <th>Customs_Code</th>\n",
       "      <th>Weight</th>\n",
       "    </tr>\n",
       "  </thead>\n",
       "  <tbody>\n",
       "    <tr>\n",
       "      <th>14626</th>\n",
       "      <td>1088</td>\n",
       "      <td>8651.59</td>\n",
       "      <td>271900</td>\n",
       "      <td>4449.82</td>\n",
       "    </tr>\n",
       "    <tr>\n",
       "      <th>1913</th>\n",
       "      <td>1695</td>\n",
       "      <td>8720.44</td>\n",
       "      <td>605760</td>\n",
       "      <td>2724.73</td>\n",
       "    </tr>\n",
       "    <tr>\n",
       "      <th>14399</th>\n",
       "      <td>761</td>\n",
       "      <td>9169.49</td>\n",
       "      <td>270903</td>\n",
       "      <td>4784.35</td>\n",
       "    </tr>\n",
       "    <tr>\n",
       "      <th>489</th>\n",
       "      <td>5265</td>\n",
       "      <td>3894.47</td>\n",
       "      <td>251444</td>\n",
       "      <td>804.72</td>\n",
       "    </tr>\n",
       "    <tr>\n",
       "      <th>4993</th>\n",
       "      <td>8879</td>\n",
       "      <td>9133.40</td>\n",
       "      <td>603591</td>\n",
       "      <td>3315.92</td>\n",
       "    </tr>\n",
       "    <tr>\n",
       "      <th>...</th>\n",
       "      <td>...</td>\n",
       "      <td>...</td>\n",
       "      <td>...</td>\n",
       "      <td>...</td>\n",
       "    </tr>\n",
       "    <tr>\n",
       "      <th>9810</th>\n",
       "      <td>790</td>\n",
       "      <td>5441.46</td>\n",
       "      <td>927672</td>\n",
       "      <td>1281.83</td>\n",
       "    </tr>\n",
       "    <tr>\n",
       "      <th>36</th>\n",
       "      <td>8302</td>\n",
       "      <td>4932.36</td>\n",
       "      <td>389045</td>\n",
       "      <td>2895.97</td>\n",
       "    </tr>\n",
       "    <tr>\n",
       "      <th>1485</th>\n",
       "      <td>4139</td>\n",
       "      <td>2146.21</td>\n",
       "      <td>858038</td>\n",
       "      <td>4311.01</td>\n",
       "    </tr>\n",
       "    <tr>\n",
       "      <th>10575</th>\n",
       "      <td>8868</td>\n",
       "      <td>7030.51</td>\n",
       "      <td>332850</td>\n",
       "      <td>2750.55</td>\n",
       "    </tr>\n",
       "    <tr>\n",
       "      <th>12668</th>\n",
       "      <td>2551</td>\n",
       "      <td>9072.25</td>\n",
       "      <td>693172</td>\n",
       "      <td>1908.29</td>\n",
       "    </tr>\n",
       "  </tbody>\n",
       "</table>\n",
       "<p>2001 rows × 4 columns</p>\n",
       "</div>"
      ],
      "text/plain": [
       "       Quantity    Value  Customs_Code   Weight\n",
       "14626      1088  8651.59        271900  4449.82\n",
       "1913       1695  8720.44        605760  2724.73\n",
       "14399       761  9169.49        270903  4784.35\n",
       "489        5265  3894.47        251444   804.72\n",
       "4993       8879  9133.40        603591  3315.92\n",
       "...         ...      ...           ...      ...\n",
       "9810        790  5441.46        927672  1281.83\n",
       "36         8302  4932.36        389045  2895.97\n",
       "1485       4139  2146.21        858038  4311.01\n",
       "10575      8868  7030.51        332850  2750.55\n",
       "12668      2551  9072.25        693172  1908.29\n",
       "\n",
       "[2001 rows x 4 columns]"
      ]
     },
     "metadata": {},
     "output_type": "display_data"
    }
   ],
   "source": [
    "# Subseting the Non-Categorical Variables.\n",
    "non_categorical_columns = ['Quantity', 'Value', 'Customs_Code', 'Weight']\n",
    "non_categorical_df = sample[non_categorical_columns]\n",
    "display(non_categorical_df)"
   ]
  },
  {
   "cell_type": "code",
   "execution_count": 26,
   "id": "98293622-2512-410e-9887-b88f2bf6d257",
   "metadata": {},
   "outputs": [
    {
     "data": {
      "text/html": [
       "<div>\n",
       "<style scoped>\n",
       "    .dataframe tbody tr th:only-of-type {\n",
       "        vertical-align: middle;\n",
       "    }\n",
       "\n",
       "    .dataframe tbody tr th {\n",
       "        vertical-align: top;\n",
       "    }\n",
       "\n",
       "    .dataframe thead th {\n",
       "        text-align: right;\n",
       "    }\n",
       "</style>\n",
       "<table border=\"1\" class=\"dataframe\">\n",
       "  <thead>\n",
       "    <tr style=\"text-align: right;\">\n",
       "      <th></th>\n",
       "      <th>Quantity</th>\n",
       "      <th>Value</th>\n",
       "      <th>Customs_Code</th>\n",
       "      <th>Weight</th>\n",
       "    </tr>\n",
       "  </thead>\n",
       "  <tbody>\n",
       "    <tr>\n",
       "      <th>count</th>\n",
       "      <td>2001.00</td>\n",
       "      <td>2001.00</td>\n",
       "      <td>2001.00</td>\n",
       "      <td>2001.00</td>\n",
       "    </tr>\n",
       "    <tr>\n",
       "      <th>mean</th>\n",
       "      <td>4907.54</td>\n",
       "      <td>5183.89</td>\n",
       "      <td>547069.12</td>\n",
       "      <td>2484.34</td>\n",
       "    </tr>\n",
       "    <tr>\n",
       "      <th>std</th>\n",
       "      <td>2873.01</td>\n",
       "      <td>2882.15</td>\n",
       "      <td>263441.14</td>\n",
       "      <td>1448.33</td>\n",
       "    </tr>\n",
       "    <tr>\n",
       "      <th>min</th>\n",
       "      <td>6.00</td>\n",
       "      <td>102.87</td>\n",
       "      <td>100414.00</td>\n",
       "      <td>1.64</td>\n",
       "    </tr>\n",
       "    <tr>\n",
       "      <th>25%</th>\n",
       "      <td>2348.00</td>\n",
       "      <td>2683.01</td>\n",
       "      <td>322439.00</td>\n",
       "      <td>1281.33</td>\n",
       "    </tr>\n",
       "    <tr>\n",
       "      <th>50%</th>\n",
       "      <td>4908.00</td>\n",
       "      <td>5299.13</td>\n",
       "      <td>540805.00</td>\n",
       "      <td>2400.38</td>\n",
       "    </tr>\n",
       "    <tr>\n",
       "      <th>75%</th>\n",
       "      <td>7445.00</td>\n",
       "      <td>7681.33</td>\n",
       "      <td>781779.00</td>\n",
       "      <td>3744.75</td>\n",
       "    </tr>\n",
       "    <tr>\n",
       "      <th>max</th>\n",
       "      <td>9993.00</td>\n",
       "      <td>9999.13</td>\n",
       "      <td>999717.00</td>\n",
       "      <td>4992.70</td>\n",
       "    </tr>\n",
       "  </tbody>\n",
       "</table>\n",
       "</div>"
      ],
      "text/plain": [
       "       Quantity    Value  Customs_Code   Weight\n",
       "count   2001.00  2001.00       2001.00  2001.00\n",
       "mean    4907.54  5183.89     547069.12  2484.34\n",
       "std     2873.01  2882.15     263441.14  1448.33\n",
       "min        6.00   102.87     100414.00     1.64\n",
       "25%     2348.00  2683.01     322439.00  1281.33\n",
       "50%     4908.00  5299.13     540805.00  2400.38\n",
       "75%     7445.00  7681.33     781779.00  3744.75\n",
       "max     9993.00  9999.13     999717.00  4992.70"
      ]
     },
     "metadata": {},
     "output_type": "display_data"
    }
   ],
   "source": [
    "# Descriptive Statistics of the Non-Categorical Set.\n",
    "non_categorical_stats = non_categorical_df.describe()\n",
    "non_categorical_stats= np.round(non_categorical_stats,2)\n",
    "# Display the statistics\n",
    "display(non_categorical_stats)"
   ]
  },
  {
   "cell_type": "code",
   "execution_count": 28,
   "id": "7d4d09a3-d2b5-4c36-b7b0-c4b99251eb08",
   "metadata": {},
   "outputs": [
    {
     "data": {
      "text/html": [
       "<div>\n",
       "<style scoped>\n",
       "    .dataframe tbody tr th:only-of-type {\n",
       "        vertical-align: middle;\n",
       "    }\n",
       "\n",
       "    .dataframe tbody tr th {\n",
       "        vertical-align: top;\n",
       "    }\n",
       "\n",
       "    .dataframe thead th {\n",
       "        text-align: right;\n",
       "    }\n",
       "</style>\n",
       "<table border=\"1\" class=\"dataframe\">\n",
       "  <thead>\n",
       "    <tr style=\"text-align: right;\">\n",
       "      <th></th>\n",
       "      <th>Country</th>\n",
       "      <th>Product</th>\n",
       "      <th>Import_Export</th>\n",
       "      <th>Category</th>\n",
       "      <th>Port</th>\n",
       "      <th>Shipping_Method</th>\n",
       "      <th>Supplier</th>\n",
       "      <th>Customer</th>\n",
       "      <th>Payment_Terms</th>\n",
       "    </tr>\n",
       "  </thead>\n",
       "  <tbody>\n",
       "    <tr>\n",
       "      <th>14626</th>\n",
       "      <td>Germany</td>\n",
       "      <td>our</td>\n",
       "      <td>Export</td>\n",
       "      <td>Furniture</td>\n",
       "      <td>West Alex</td>\n",
       "      <td>Land</td>\n",
       "      <td>Ball-Lopez</td>\n",
       "      <td>Monica Bryant</td>\n",
       "      <td>Net 30</td>\n",
       "    </tr>\n",
       "    <tr>\n",
       "      <th>1913</th>\n",
       "      <td>Mauritius</td>\n",
       "      <td>social</td>\n",
       "      <td>Import</td>\n",
       "      <td>Furniture</td>\n",
       "      <td>West Neil</td>\n",
       "      <td>Land</td>\n",
       "      <td>Joseph, Hess and Clay</td>\n",
       "      <td>Kelly Hill</td>\n",
       "      <td>Net 30</td>\n",
       "    </tr>\n",
       "    <tr>\n",
       "      <th>14399</th>\n",
       "      <td>Afghanistan</td>\n",
       "      <td>case</td>\n",
       "      <td>Import</td>\n",
       "      <td>Machinery</td>\n",
       "      <td>North Luis</td>\n",
       "      <td>Air</td>\n",
       "      <td>Jones-Simmons</td>\n",
       "      <td>Marcus Thompson</td>\n",
       "      <td>Prepaid</td>\n",
       "    </tr>\n",
       "    <tr>\n",
       "      <th>489</th>\n",
       "      <td>Turkey</td>\n",
       "      <td>community</td>\n",
       "      <td>Export</td>\n",
       "      <td>Machinery</td>\n",
       "      <td>Lake Stacy</td>\n",
       "      <td>Land</td>\n",
       "      <td>Gutierrez, Sullivan and Middleton</td>\n",
       "      <td>Kelsey Christensen</td>\n",
       "      <td>Net 60</td>\n",
       "    </tr>\n",
       "    <tr>\n",
       "      <th>4993</th>\n",
       "      <td>Anguilla</td>\n",
       "      <td>morning</td>\n",
       "      <td>Import</td>\n",
       "      <td>Furniture</td>\n",
       "      <td>Codyberg</td>\n",
       "      <td>Land</td>\n",
       "      <td>Wilson Ltd</td>\n",
       "      <td>Zachary Whitaker</td>\n",
       "      <td>Cash on Delivery</td>\n",
       "    </tr>\n",
       "    <tr>\n",
       "      <th>...</th>\n",
       "      <td>...</td>\n",
       "      <td>...</td>\n",
       "      <td>...</td>\n",
       "      <td>...</td>\n",
       "      <td>...</td>\n",
       "      <td>...</td>\n",
       "      <td>...</td>\n",
       "      <td>...</td>\n",
       "      <td>...</td>\n",
       "    </tr>\n",
       "    <tr>\n",
       "      <th>9810</th>\n",
       "      <td>Malawi</td>\n",
       "      <td>last</td>\n",
       "      <td>Export</td>\n",
       "      <td>Furniture</td>\n",
       "      <td>Connerfort</td>\n",
       "      <td>Sea</td>\n",
       "      <td>Cruz, Castro and Moore</td>\n",
       "      <td>Sara Carter</td>\n",
       "      <td>Net 30</td>\n",
       "    </tr>\n",
       "    <tr>\n",
       "      <th>36</th>\n",
       "      <td>Montserrat</td>\n",
       "      <td>physical</td>\n",
       "      <td>Import</td>\n",
       "      <td>Machinery</td>\n",
       "      <td>Smithbury</td>\n",
       "      <td>Sea</td>\n",
       "      <td>Terry-Johnson</td>\n",
       "      <td>Rhonda Bailey</td>\n",
       "      <td>Cash on Delivery</td>\n",
       "    </tr>\n",
       "    <tr>\n",
       "      <th>1485</th>\n",
       "      <td>Colombia</td>\n",
       "      <td>behind</td>\n",
       "      <td>Export</td>\n",
       "      <td>Toys</td>\n",
       "      <td>South Kellybury</td>\n",
       "      <td>Sea</td>\n",
       "      <td>Payne-Atkins</td>\n",
       "      <td>Vanessa Thornton</td>\n",
       "      <td>Prepaid</td>\n",
       "    </tr>\n",
       "    <tr>\n",
       "      <th>10575</th>\n",
       "      <td>Jamaica</td>\n",
       "      <td>stage</td>\n",
       "      <td>Import</td>\n",
       "      <td>Clothing</td>\n",
       "      <td>South Loribury</td>\n",
       "      <td>Land</td>\n",
       "      <td>Campbell LLC</td>\n",
       "      <td>Tonya Walker</td>\n",
       "      <td>Net 60</td>\n",
       "    </tr>\n",
       "    <tr>\n",
       "      <th>12668</th>\n",
       "      <td>Marshall Islands</td>\n",
       "      <td>environmental</td>\n",
       "      <td>Import</td>\n",
       "      <td>Clothing</td>\n",
       "      <td>New Aliciahaven</td>\n",
       "      <td>Air</td>\n",
       "      <td>Vargas LLC</td>\n",
       "      <td>Kathleen Barker</td>\n",
       "      <td>Prepaid</td>\n",
       "    </tr>\n",
       "  </tbody>\n",
       "</table>\n",
       "<p>2001 rows × 9 columns</p>\n",
       "</div>"
      ],
      "text/plain": [
       "                Country        Product Import_Export   Category  \\\n",
       "14626           Germany            our        Export  Furniture   \n",
       "1913          Mauritius         social        Import  Furniture   \n",
       "14399       Afghanistan           case        Import  Machinery   \n",
       "489              Turkey      community        Export  Machinery   \n",
       "4993           Anguilla        morning        Import  Furniture   \n",
       "...                 ...            ...           ...        ...   \n",
       "9810             Malawi           last        Export  Furniture   \n",
       "36           Montserrat       physical        Import  Machinery   \n",
       "1485           Colombia         behind        Export       Toys   \n",
       "10575           Jamaica          stage        Import   Clothing   \n",
       "12668  Marshall Islands  environmental        Import   Clothing   \n",
       "\n",
       "                  Port Shipping_Method                           Supplier  \\\n",
       "14626        West Alex            Land                         Ball-Lopez   \n",
       "1913         West Neil            Land              Joseph, Hess and Clay   \n",
       "14399       North Luis             Air                      Jones-Simmons   \n",
       "489         Lake Stacy            Land  Gutierrez, Sullivan and Middleton   \n",
       "4993          Codyberg            Land                         Wilson Ltd   \n",
       "...                ...             ...                                ...   \n",
       "9810        Connerfort             Sea             Cruz, Castro and Moore   \n",
       "36           Smithbury             Sea                      Terry-Johnson   \n",
       "1485   South Kellybury             Sea                       Payne-Atkins   \n",
       "10575   South Loribury            Land                       Campbell LLC   \n",
       "12668  New Aliciahaven             Air                         Vargas LLC   \n",
       "\n",
       "                 Customer     Payment_Terms  \n",
       "14626       Monica Bryant            Net 30  \n",
       "1913           Kelly Hill            Net 30  \n",
       "14399     Marcus Thompson           Prepaid  \n",
       "489    Kelsey Christensen            Net 60  \n",
       "4993     Zachary Whitaker  Cash on Delivery  \n",
       "...                   ...               ...  \n",
       "9810          Sara Carter            Net 30  \n",
       "36          Rhonda Bailey  Cash on Delivery  \n",
       "1485     Vanessa Thornton           Prepaid  \n",
       "10575        Tonya Walker            Net 60  \n",
       "12668     Kathleen Barker           Prepaid  \n",
       "\n",
       "[2001 rows x 9 columns]"
      ]
     },
     "execution_count": 28,
     "metadata": {},
     "output_type": "execute_result"
    }
   ],
   "source": [
    "#Subseting the Categorical Variables.\n",
    "categorical_variables = [\"Country\", \"Product\", \"Import_Export\", \"Category\", \"Port\", \"Shipping_Method\", \"Supplier\", \"Customer\", \"Payment_Terms\"\n",
    "\n",
    "]\n",
    "categ = sample[categorical_variables]\n",
    "categ"
   ]
  },
  {
   "cell_type": "code",
   "execution_count": 30,
   "id": "96dc5afb-3dfe-41b4-a7e1-6e47273bc6d8",
   "metadata": {},
   "outputs": [
    {
     "data": {
      "text/html": [
       "<div>\n",
       "<style scoped>\n",
       "    .dataframe tbody tr th:only-of-type {\n",
       "        vertical-align: middle;\n",
       "    }\n",
       "\n",
       "    .dataframe tbody tr th {\n",
       "        vertical-align: top;\n",
       "    }\n",
       "\n",
       "    .dataframe thead th {\n",
       "        text-align: right;\n",
       "    }\n",
       "</style>\n",
       "<table border=\"1\" class=\"dataframe\">\n",
       "  <thead>\n",
       "    <tr style=\"text-align: right;\">\n",
       "      <th></th>\n",
       "      <th>count</th>\n",
       "    </tr>\n",
       "    <tr>\n",
       "      <th>Category</th>\n",
       "      <th></th>\n",
       "    </tr>\n",
       "  </thead>\n",
       "  <tbody>\n",
       "    <tr>\n",
       "      <th>Electronics</th>\n",
       "      <td>420</td>\n",
       "    </tr>\n",
       "    <tr>\n",
       "      <th>Clothing</th>\n",
       "      <td>401</td>\n",
       "    </tr>\n",
       "    <tr>\n",
       "      <th>Furniture</th>\n",
       "      <td>395</td>\n",
       "    </tr>\n",
       "    <tr>\n",
       "      <th>Machinery</th>\n",
       "      <td>393</td>\n",
       "    </tr>\n",
       "    <tr>\n",
       "      <th>Toys</th>\n",
       "      <td>392</td>\n",
       "    </tr>\n",
       "  </tbody>\n",
       "</table>\n",
       "</div>"
      ],
      "text/plain": [
       "             count\n",
       "Category          \n",
       "Electronics    420\n",
       "Clothing       401\n",
       "Furniture      395\n",
       "Machinery      393\n",
       "Toys           392"
      ]
     },
     "metadata": {},
     "output_type": "display_data"
    }
   ],
   "source": [
    "#Descriptive Statistics of Any 01 Categorical Variable.\n",
    "display(pd.DataFrame(sample[\"Category\"].value_counts()))"
   ]
  },
  {
   "cell_type": "markdown",
   "id": "de999e0e-a7e6-423f-b49d-f00c625747b4",
   "metadata": {},
   "source": [
    "## **1.Descriptive Statistics**"
   ]
  },
  {
   "cell_type": "markdown",
   "id": "eee787aa-11e6-4546-85dd-d41413cc6e55",
   "metadata": {},
   "source": [
    "### **Measures of Central Tendency**"
   ]
  },
  {
   "cell_type": "code",
   "execution_count": 34,
   "id": "1ffadd3d-aa79-4de1-8324-9ba2261d688d",
   "metadata": {},
   "outputs": [
    {
     "name": "stdout",
     "output_type": "stream",
     "text": [
      "\n",
      " Mean :\n"
     ]
    },
    {
     "data": {
      "text/html": [
       "<div>\n",
       "<style scoped>\n",
       "    .dataframe tbody tr th:only-of-type {\n",
       "        vertical-align: middle;\n",
       "    }\n",
       "\n",
       "    .dataframe tbody tr th {\n",
       "        vertical-align: top;\n",
       "    }\n",
       "\n",
       "    .dataframe thead th {\n",
       "        text-align: right;\n",
       "    }\n",
       "</style>\n",
       "<table border=\"1\" class=\"dataframe\">\n",
       "  <thead>\n",
       "    <tr style=\"text-align: right;\">\n",
       "      <th></th>\n",
       "      <th>Mean</th>\n",
       "    </tr>\n",
       "  </thead>\n",
       "  <tbody>\n",
       "    <tr>\n",
       "      <th>Quantity</th>\n",
       "      <td>4907.54</td>\n",
       "    </tr>\n",
       "    <tr>\n",
       "      <th>Value</th>\n",
       "      <td>5183.89</td>\n",
       "    </tr>\n",
       "    <tr>\n",
       "      <th>Weight</th>\n",
       "      <td>2484.34</td>\n",
       "    </tr>\n",
       "  </tbody>\n",
       "</table>\n",
       "</div>"
      ],
      "text/plain": [
       "             Mean\n",
       "Quantity  4907.54\n",
       "Value     5183.89\n",
       "Weight    2484.34"
      ]
     },
     "metadata": {},
     "output_type": "display_data"
    },
    {
     "name": "stdout",
     "output_type": "stream",
     "text": [
      "\n",
      " Median :\n"
     ]
    },
    {
     "data": {
      "text/html": [
       "<div>\n",
       "<style scoped>\n",
       "    .dataframe tbody tr th:only-of-type {\n",
       "        vertical-align: middle;\n",
       "    }\n",
       "\n",
       "    .dataframe tbody tr th {\n",
       "        vertical-align: top;\n",
       "    }\n",
       "\n",
       "    .dataframe thead th {\n",
       "        text-align: right;\n",
       "    }\n",
       "</style>\n",
       "<table border=\"1\" class=\"dataframe\">\n",
       "  <thead>\n",
       "    <tr style=\"text-align: right;\">\n",
       "      <th></th>\n",
       "      <th>Median</th>\n",
       "    </tr>\n",
       "  </thead>\n",
       "  <tbody>\n",
       "    <tr>\n",
       "      <th>Quantity</th>\n",
       "      <td>4908.00</td>\n",
       "    </tr>\n",
       "    <tr>\n",
       "      <th>Value</th>\n",
       "      <td>5299.13</td>\n",
       "    </tr>\n",
       "    <tr>\n",
       "      <th>Weight</th>\n",
       "      <td>2400.38</td>\n",
       "    </tr>\n",
       "  </tbody>\n",
       "</table>\n",
       "</div>"
      ],
      "text/plain": [
       "           Median\n",
       "Quantity  4908.00\n",
       "Value     5299.13\n",
       "Weight    2400.38"
      ]
     },
     "metadata": {},
     "output_type": "display_data"
    },
    {
     "name": "stdout",
     "output_type": "stream",
     "text": [
      "\n",
      " Mode of Weights : \n"
     ]
    },
    {
     "data": {
      "text/html": [
       "<div>\n",
       "<style scoped>\n",
       "    .dataframe tbody tr th:only-of-type {\n",
       "        vertical-align: middle;\n",
       "    }\n",
       "\n",
       "    .dataframe tbody tr th {\n",
       "        vertical-align: top;\n",
       "    }\n",
       "\n",
       "    .dataframe thead th {\n",
       "        text-align: right;\n",
       "    }\n",
       "</style>\n",
       "<table border=\"1\" class=\"dataframe\">\n",
       "  <thead>\n",
       "    <tr style=\"text-align: right;\">\n",
       "      <th></th>\n",
       "      <th>Mode of Weights</th>\n",
       "    </tr>\n",
       "  </thead>\n",
       "  <tbody>\n",
       "    <tr>\n",
       "      <th>0</th>\n",
       "      <td>831.03</td>\n",
       "    </tr>\n",
       "    <tr>\n",
       "      <th>1</th>\n",
       "      <td>1292.49</td>\n",
       "    </tr>\n",
       "  </tbody>\n",
       "</table>\n",
       "</div>"
      ],
      "text/plain": [
       "   Mode of Weights\n",
       "0           831.03\n",
       "1          1292.49"
      ]
     },
     "metadata": {},
     "output_type": "display_data"
    }
   ],
   "source": [
    "# Mean, Median, Mode\n",
    "non_categorical_df_1 = non_categorical_df = sample[[\"Quantity\", \"Value\", \"Weight\"]] \n",
    "mean_values = pd.DataFrame(non_categorical_df_1.mean())\n",
    "mean_values.columns = ['Mean']\n",
    "median_values = pd.DataFrame(non_categorical_df_1.median())\n",
    "median_values.columns = ['Median']\n",
    "mode_values = sample[[\"Weight\"]].mode()\n",
    "mode_values.columns = ['Mode of Weights']\n",
    "print(\"\\n Mean :\")\n",
    "display(np.round(mean_values,2))\n",
    "print(\"\\n Median :\")\n",
    "display(median_values)\n",
    "print(\"\\n Mode of Weights : \")\n",
    "display(mode_values)"
   ]
  },
  {
   "cell_type": "markdown",
   "id": "0d80ec5e-c571-4799-8340-d1145e9dee1e",
   "metadata": {},
   "source": [
    "# Mean Interpretation:\n",
    "Quantity (Mean: 4907): On average, the dataset shows that the quantity of goods involved in the transactions is approximately 4901.54 units.\n",
    "\n",
    "Value (Mean: 5183.89): The mean value of the goods in each transaction is around 5183.89, which suggests a general average transaction value across the dataset.\n",
    "\n",
    "Weight (Mean: 2484.34): The average weight of the goods in each transaction is approximately 2484.34 units, indicating the typical weight being handled per transaction.\n",
    "\n",
    "\n",
    "# Median Interpretation:\n",
    "Quantity (Median: 4908.00): The median quantity is 4908.00 units, meaning that half of the transactions have a quantity below 4908.00 and the other half have a quantity above it. This indicates that most transactions revolve around this quantity.\n",
    "\n",
    "Value (Median: 5299.13): The median value is 5299.13, indicating that half of the transactions are valued below this amount, and half are above. Since the median and mean are quite close, the data may not have extreme outliers.\n",
    "\n",
    "Weight (Median: 2400.38\n",
    "): The median weight is 2469.49, meaning the central value of the dataset is around this number. Similar to the other variables, the mean and median are close, which suggests a fairly even distribution of data without major outliers.\n",
    "\n",
    "\n",
    "# Mode Interpretation:\n",
    "Weight (Modes:831.03,1292.492):  Since there are multiple modes for the weight, this suggests that the data is multimodal, meaning there are several common weights that appear repeatedly. These weights likely correspond to specific categories or shipment types that occur frequently.\n",
    "\n",
    "In summary, the mean and median for Quantity, Value, and Weight are relatively close, suggesting that the dataset is fairly balanced without significant outliers. However, the multiple modes in Weight indicate that some weights are more common than others, potentially reflecting different types of shipments or goods being traded at various weight levels."
   ]
  },
  {
   "cell_type": "markdown",
   "id": "9ac93c83",
   "metadata": {},
   "source": [
    "## Maximum and Minimum Table"
   ]
  },
  {
   "cell_type": "code",
   "execution_count": 38,
   "id": "816c1f8b",
   "metadata": {},
   "outputs": [
    {
     "name": "stdout",
     "output_type": "stream",
     "text": [
      "\n",
      "Minimum Table:\n"
     ]
    },
    {
     "data": {
      "text/html": [
       "<div>\n",
       "<style scoped>\n",
       "    .dataframe tbody tr th:only-of-type {\n",
       "        vertical-align: middle;\n",
       "    }\n",
       "\n",
       "    .dataframe tbody tr th {\n",
       "        vertical-align: top;\n",
       "    }\n",
       "\n",
       "    .dataframe thead th {\n",
       "        text-align: right;\n",
       "    }\n",
       "</style>\n",
       "<table border=\"1\" class=\"dataframe\">\n",
       "  <thead>\n",
       "    <tr style=\"text-align: right;\">\n",
       "      <th></th>\n",
       "      <th>Minimum</th>\n",
       "    </tr>\n",
       "  </thead>\n",
       "  <tbody>\n",
       "    <tr>\n",
       "      <th>Country</th>\n",
       "      <td>Afghanistan</td>\n",
       "    </tr>\n",
       "    <tr>\n",
       "      <th>Product</th>\n",
       "      <td>Democrat</td>\n",
       "    </tr>\n",
       "    <tr>\n",
       "      <th>Import_Export</th>\n",
       "      <td>Export</td>\n",
       "    </tr>\n",
       "    <tr>\n",
       "      <th>Category</th>\n",
       "      <td>Clothing</td>\n",
       "    </tr>\n",
       "    <tr>\n",
       "      <th>Port</th>\n",
       "      <td>Abigailchester</td>\n",
       "    </tr>\n",
       "    <tr>\n",
       "      <th>Shipping_Method</th>\n",
       "      <td>Air</td>\n",
       "    </tr>\n",
       "    <tr>\n",
       "      <th>Supplier</th>\n",
       "      <td>Abbott and Sons</td>\n",
       "    </tr>\n",
       "    <tr>\n",
       "      <th>Customer</th>\n",
       "      <td>Aaron Butler</td>\n",
       "    </tr>\n",
       "    <tr>\n",
       "      <th>Payment_Terms</th>\n",
       "      <td>Cash on Delivery</td>\n",
       "    </tr>\n",
       "  </tbody>\n",
       "</table>\n",
       "</div>"
      ],
      "text/plain": [
       "                          Minimum\n",
       "Country               Afghanistan\n",
       "Product                  Democrat\n",
       "Import_Export              Export\n",
       "Category                 Clothing\n",
       "Port               Abigailchester\n",
       "Shipping_Method               Air\n",
       "Supplier          Abbott and Sons\n",
       "Customer             Aaron Butler\n",
       "Payment_Terms    Cash on Delivery"
      ]
     },
     "metadata": {},
     "output_type": "display_data"
    },
    {
     "name": "stdout",
     "output_type": "stream",
     "text": [
      "\n",
      "Maximum Table:\n"
     ]
    },
    {
     "data": {
      "text/html": [
       "<div>\n",
       "<style scoped>\n",
       "    .dataframe tbody tr th:only-of-type {\n",
       "        vertical-align: middle;\n",
       "    }\n",
       "\n",
       "    .dataframe tbody tr th {\n",
       "        vertical-align: top;\n",
       "    }\n",
       "\n",
       "    .dataframe thead th {\n",
       "        text-align: right;\n",
       "    }\n",
       "</style>\n",
       "<table border=\"1\" class=\"dataframe\">\n",
       "  <thead>\n",
       "    <tr style=\"text-align: right;\">\n",
       "      <th></th>\n",
       "      <th>Maximum</th>\n",
       "    </tr>\n",
       "  </thead>\n",
       "  <tbody>\n",
       "    <tr>\n",
       "      <th>Country</th>\n",
       "      <td>Zimbabwe</td>\n",
       "    </tr>\n",
       "    <tr>\n",
       "      <th>Product</th>\n",
       "      <td>yourself</td>\n",
       "    </tr>\n",
       "    <tr>\n",
       "      <th>Import_Export</th>\n",
       "      <td>Import</td>\n",
       "    </tr>\n",
       "    <tr>\n",
       "      <th>Category</th>\n",
       "      <td>Toys</td>\n",
       "    </tr>\n",
       "    <tr>\n",
       "      <th>Port</th>\n",
       "      <td>Youngstad</td>\n",
       "    </tr>\n",
       "    <tr>\n",
       "      <th>Shipping_Method</th>\n",
       "      <td>Sea</td>\n",
       "    </tr>\n",
       "    <tr>\n",
       "      <th>Supplier</th>\n",
       "      <td>Zuniga, King and Marquez</td>\n",
       "    </tr>\n",
       "    <tr>\n",
       "      <th>Customer</th>\n",
       "      <td>Zachary Wilson</td>\n",
       "    </tr>\n",
       "    <tr>\n",
       "      <th>Payment_Terms</th>\n",
       "      <td>Prepaid</td>\n",
       "    </tr>\n",
       "  </tbody>\n",
       "</table>\n",
       "</div>"
      ],
      "text/plain": [
       "                                  Maximum\n",
       "Country                          Zimbabwe\n",
       "Product                          yourself\n",
       "Import_Export                      Import\n",
       "Category                             Toys\n",
       "Port                            Youngstad\n",
       "Shipping_Method                       Sea\n",
       "Supplier         Zuniga, King and Marquez\n",
       "Customer                   Zachary Wilson\n",
       "Payment_Terms                     Prepaid"
      ]
     },
     "metadata": {},
     "output_type": "display_data"
    }
   ],
   "source": [
    "#Minimum Table\n",
    "min_table = pd.DataFrame(index=categorical_variables, columns=['Minimum'])\n",
    "for col in categorical_variables:\n",
    "    min_table.loc[col] = sample[col].min()\n",
    "print(\"\\nMinimum Table:\")\n",
    "display(min_table)\n",
    "\n",
    "#Maximum Table\n",
    "max_table = pd.DataFrame(index=categorical_variables, columns=['Maximum'])\n",
    "for col in categorical_variables:\n",
    "    max_table.loc[col] = sample[col].max()\n",
    "print(\"\\nMaximum Table:\")\n",
    "display(max_table)"
   ]
  },
  {
   "cell_type": "markdown",
   "id": "7ce192f0-3996-4693-85c4-b8d9d5894dd5",
   "metadata": {},
   "source": [
    "## **Measures of Dispersion**"
   ]
  },
  {
   "cell_type": "code",
   "execution_count": 41,
   "id": "d6ca541e-0f43-4b5e-9d4c-1fd974383c9f",
   "metadata": {},
   "outputs": [
    {
     "name": "stdout",
     "output_type": "stream",
     "text": [
      "Range:\n",
      " Quantity    9987.00\n",
      "Value       9896.26\n",
      "Weight      4991.06\n",
      "dtype: float64\n",
      "Standard Deviation:\n",
      " Quantity    2873.011879\n",
      "Value       2882.150800\n",
      "Weight      1448.331089\n",
      "dtype: float64\n",
      "Variance:\n",
      " Quantity    8.254197e+06\n",
      "Value       8.306793e+06\n",
      "Weight      2.097663e+06\n",
      "dtype: float64\n"
     ]
    }
   ],
   "source": [
    "# Range, Standard Deviation, Variance\n",
    "range_values = non_categorical_df.max() - non_categorical_df.min()\n",
    "std_dev_values = non_categorical_df.std()\n",
    "variance_values = non_categorical_df.var()\n",
    "\n",
    "print(\"Range:\\n\", range_values)\n",
    "print(\"Standard Deviation:\\n\", std_dev_values)\n",
    "print(\"Variance:\\n\", variance_values)"
   ]
  },
  {
   "cell_type": "markdown",
   "id": "62723cf1-0098-4bcb-b351-e86df63d29b5",
   "metadata": {},
   "source": [
    "### Range Interpretation:\n",
    "Quantity (Range: 9987.00): The difference between the maximum and minimum quantities in the dataset is 9987 units, indicating a wide variation in the number of goods involved in each transaction.\n",
    "\n",
    "Value (Range: 9896.26): The range of values across transactions is 9896.26, which suggests significant variability in the monetary value of transactions.\n",
    "\n",
    "Weight (Range: 4991.06): The weight of goods ranges over 4991.06 units, showing that shipments can vary greatly in terms of how heavy they are.\n",
    "The range provides a quick overview of the spread in the data, but it doesn’t account for how the data is distributed between the extremes.\n",
    "\n",
    "### Standard Deviation Interpretation:\n",
    "Quantity (Standard Deviation: 2873.011879): The quantity of goods varies by about 2873.011879 units from the mean. A large standard deviation relative to the mean indicates that there is considerable variation in the quantity of goods across transactions.\n",
    "\n",
    "Value (Standard Deviation: 2882.150800): The standard deviation for transaction values is 2882.150800, meaning that the value of goods in each transaction tends to deviate from the mean by this amount. Again, this indicates significant variability in transaction values.\n",
    "\n",
    "Weight (Standard Deviation: 1448.331089): The weights of shipments tend to vary by about 1448.331089 units from the mean. This suggests moderate variability in shipment weights, though less than the variability seen in quantity and value.\n",
    "\n",
    "### Variance Interpretation:\n",
    "Quantity (Variance: 8.254197e+06): The variance for quantity is 8.25 million, which is the square of the standard deviation. This large number reflects the wide range and significant variation in quantities across transactions.\n",
    "\n",
    "Value (Variance: 8.306793e+06): The variance in the value of transactions is about 8.3 million. This again shows substantial variability in transaction values, aligned with the wide range observed.\n",
    "\n",
    "Weight (Variance: 2.097663e+06): The variance for weight is 2.09 million. This lower variance compared to quantity and value indicates that the weights are less spread out across transactions than the other two variables."
   ]
  },
  {
   "cell_type": "markdown",
   "id": "9723277d-da4e-4998-9e25-55714d00671e",
   "metadata": {},
   "source": [
    " #### **Skewness and Kurtosis**"
   ]
  },
  {
   "cell_type": "code",
   "execution_count": 45,
   "id": "84923a91-dbb5-4536-8760-445921b42d19",
   "metadata": {},
   "outputs": [
    {
     "name": "stdout",
     "output_type": "stream",
     "text": [
      "Skewness:\n",
      " Quantity    0.031637\n",
      "Value      -0.050168\n",
      "Weight      0.052197\n",
      "dtype: float64\n",
      "Kurtosis:\n",
      " Quantity   -1.215467\n",
      "Value      -1.216069\n",
      "Weight     -1.195339\n",
      "dtype: float64\n"
     ]
    }
   ],
   "source": [
    "# Skewness and Kurtosis\n",
    "skewness = non_categorical_df.skew()\n",
    "kurtosis = non_categorical_df.kurt()\n",
    "\n",
    "print(\"Skewness:\\n\", skewness)\n",
    "print(\"Kurtosis:\\n\", kurtosis)"
   ]
  },
  {
   "cell_type": "markdown",
   "id": "963800bd-5e5f-4f18-b971-8950d4587968",
   "metadata": {},
   "source": [
    "# Skewness Interpretation:\n",
    "All three values are very close to zero, indicating that the distributions of Quantity, Value, and Weight are approximately symmetrical.\n",
    "\n",
    "Quantity has very slight negative skewness, suggesting a very minor tendency for data to fall more frequently on the right side of the distribution.\n",
    "# Kurtosis Interpretation:\n",
    "Value has a very slight negative skewness (not positive), indicating a minor tendency for data to fall more frequently on the right side of the distribution, rather than the left.\n",
    "\n",
    "All three values of kurtosis are negative, indicating that the distributions of Quantity, Value, and Weight have lighter tails and flatter peaks compared to a normal distribution. In other words, these distributions are more platykurtic.\n",
    "\n",
    "The negative kurtosis suggests that extreme values are less frequent, and the overall shape of the distribution is more flat-topped compared to a normal distribution."
   ]
  },
  {
   "cell_type": "markdown",
   "id": "eac68d14-8bd4-4eb6-9f12-02f41384d179",
   "metadata": {},
   "source": [
    "**Correlation between Non-Categorical Variables**"
   ]
  },
  {
   "cell_type": "code",
   "execution_count": 49,
   "id": "4d416be9-bfcd-43df-9c93-558bd55ae937",
   "metadata": {},
   "outputs": [
    {
     "name": "stdout",
     "output_type": "stream",
     "text": [
      "Correlation Matrix:\n",
      "           Quantity     Value    Weight\n",
      "Quantity  1.000000 -0.014538  0.011403\n",
      "Value    -0.014538  1.000000  0.010520\n",
      "Weight    0.011403  0.010520  1.000000\n"
     ]
    }
   ],
   "source": [
    "# Correlation Matrix\n",
    "correlation_matrix = non_categorical_df.corr()\n",
    "\n",
    "print(\"Correlation Matrix:\\n\", correlation_matrix)"
   ]
  },
  {
   "cell_type": "markdown",
   "id": "bafd0855-129a-4c05-bf00-599069c92e85",
   "metadata": {},
   "source": [
    "# Correlation Interpretation:\n",
    "\n",
    "All the correlation values are close to zero, indicating very weak or no linear relationships between the variables. Specifically:\n",
    "\n",
    "The correlation between Quantity and Value (-0.014538) is slightly negative, but close to zero, suggesting a very weak inverse relationship.\n",
    "The correlation between Quantity and Weight ( 0.011403) and Value and Weight (0.010520) are also near zero, implying no meaningful linear relationship.\n",
    "This suggests that Quantity, Value, and Weight behave largely independently, meaning that changes in one of these variables do not significantly affect the others. The lack of strong correlation indicates that the Quantity of goods transacted, their Value, and their Weight are likely influenced by different factors in the dataset."
   ]
  },
  {
   "cell_type": "markdown",
   "id": "6d3f3c53-b0f5-4e8b-ad67-3cc3b8e6e220",
   "metadata": {},
   "source": [
    "## **2.Categorical Data Analysis**"
   ]
  },
  {
   "cell_type": "markdown",
   "id": "2860df45-4451-408d-827c-2b410bb4368a",
   "metadata": {},
   "source": [
    "**Frequency Distribution for Categorical Data (e.g., Country, Product, Shipping_Method)**"
   ]
  },
  {
   "cell_type": "code",
   "execution_count": 54,
   "id": "38203a16-8b37-4d83-b1d0-b8f61f326221",
   "metadata": {},
   "outputs": [
    {
     "name": "stdout",
     "output_type": "stream",
     "text": [
      "\n",
      "Frequency Table for Country:\n",
      "\n"
     ]
    },
    {
     "data": {
      "text/html": [
       "<div>\n",
       "<style scoped>\n",
       "    .dataframe tbody tr th:only-of-type {\n",
       "        vertical-align: middle;\n",
       "    }\n",
       "\n",
       "    .dataframe tbody tr th {\n",
       "        vertical-align: top;\n",
       "    }\n",
       "\n",
       "    .dataframe thead th {\n",
       "        text-align: right;\n",
       "    }\n",
       "</style>\n",
       "<table border=\"1\" class=\"dataframe\">\n",
       "  <thead>\n",
       "    <tr style=\"text-align: right;\">\n",
       "      <th></th>\n",
       "      <th>Country</th>\n",
       "      <th>Frequency</th>\n",
       "    </tr>\n",
       "  </thead>\n",
       "  <tbody>\n",
       "    <tr>\n",
       "      <th>0</th>\n",
       "      <td>Congo</td>\n",
       "      <td>19</td>\n",
       "    </tr>\n",
       "    <tr>\n",
       "      <th>1</th>\n",
       "      <td>Korea</td>\n",
       "      <td>15</td>\n",
       "    </tr>\n",
       "    <tr>\n",
       "      <th>2</th>\n",
       "      <td>Antarctica (the territory South of 60 deg S)</td>\n",
       "      <td>15</td>\n",
       "    </tr>\n",
       "    <tr>\n",
       "      <th>3</th>\n",
       "      <td>Singapore</td>\n",
       "      <td>15</td>\n",
       "    </tr>\n",
       "    <tr>\n",
       "      <th>4</th>\n",
       "      <td>Anguilla</td>\n",
       "      <td>15</td>\n",
       "    </tr>\n",
       "    <tr>\n",
       "      <th>...</th>\n",
       "      <td>...</td>\n",
       "      <td>...</td>\n",
       "    </tr>\n",
       "    <tr>\n",
       "      <th>238</th>\n",
       "      <td>Libyan Arab Jamahiriya</td>\n",
       "      <td>3</td>\n",
       "    </tr>\n",
       "    <tr>\n",
       "      <th>239</th>\n",
       "      <td>Cuba</td>\n",
       "      <td>3</td>\n",
       "    </tr>\n",
       "    <tr>\n",
       "      <th>240</th>\n",
       "      <td>Saint Martin</td>\n",
       "      <td>3</td>\n",
       "    </tr>\n",
       "    <tr>\n",
       "      <th>241</th>\n",
       "      <td>Jersey</td>\n",
       "      <td>2</td>\n",
       "    </tr>\n",
       "    <tr>\n",
       "      <th>242</th>\n",
       "      <td>Montenegro</td>\n",
       "      <td>2</td>\n",
       "    </tr>\n",
       "  </tbody>\n",
       "</table>\n",
       "<p>243 rows × 2 columns</p>\n",
       "</div>"
      ],
      "text/plain": [
       "                                          Country  Frequency\n",
       "0                                           Congo         19\n",
       "1                                           Korea         15\n",
       "2    Antarctica (the territory South of 60 deg S)         15\n",
       "3                                       Singapore         15\n",
       "4                                        Anguilla         15\n",
       "..                                            ...        ...\n",
       "238                        Libyan Arab Jamahiriya          3\n",
       "239                                          Cuba          3\n",
       "240                                  Saint Martin          3\n",
       "241                                        Jersey          2\n",
       "242                                    Montenegro          2\n",
       "\n",
       "[243 rows x 2 columns]"
      ]
     },
     "metadata": {},
     "output_type": "display_data"
    },
    {
     "name": "stdout",
     "output_type": "stream",
     "text": [
      "\n",
      "Frequency Table for Product:\n",
      "\n"
     ]
    },
    {
     "data": {
      "text/html": [
       "<div>\n",
       "<style scoped>\n",
       "    .dataframe tbody tr th:only-of-type {\n",
       "        vertical-align: middle;\n",
       "    }\n",
       "\n",
       "    .dataframe tbody tr th {\n",
       "        vertical-align: top;\n",
       "    }\n",
       "\n",
       "    .dataframe thead th {\n",
       "        text-align: right;\n",
       "    }\n",
       "</style>\n",
       "<table border=\"1\" class=\"dataframe\">\n",
       "  <thead>\n",
       "    <tr style=\"text-align: right;\">\n",
       "      <th></th>\n",
       "      <th>Product</th>\n",
       "      <th>Frequency</th>\n",
       "    </tr>\n",
       "  </thead>\n",
       "  <tbody>\n",
       "    <tr>\n",
       "      <th>0</th>\n",
       "      <td>above</td>\n",
       "      <td>9</td>\n",
       "    </tr>\n",
       "    <tr>\n",
       "      <th>1</th>\n",
       "      <td>police</td>\n",
       "      <td>9</td>\n",
       "    </tr>\n",
       "    <tr>\n",
       "      <th>2</th>\n",
       "      <td>receive</td>\n",
       "      <td>7</td>\n",
       "    </tr>\n",
       "    <tr>\n",
       "      <th>3</th>\n",
       "      <td>ground</td>\n",
       "      <td>7</td>\n",
       "    </tr>\n",
       "    <tr>\n",
       "      <th>4</th>\n",
       "      <td>plant</td>\n",
       "      <td>7</td>\n",
       "    </tr>\n",
       "    <tr>\n",
       "      <th>...</th>\n",
       "      <td>...</td>\n",
       "      <td>...</td>\n",
       "    </tr>\n",
       "    <tr>\n",
       "      <th>851</th>\n",
       "      <td>finish</td>\n",
       "      <td>1</td>\n",
       "    </tr>\n",
       "    <tr>\n",
       "      <th>852</th>\n",
       "      <td>course</td>\n",
       "      <td>1</td>\n",
       "    </tr>\n",
       "    <tr>\n",
       "      <th>853</th>\n",
       "      <td>and</td>\n",
       "      <td>1</td>\n",
       "    </tr>\n",
       "    <tr>\n",
       "      <th>854</th>\n",
       "      <td>between</td>\n",
       "      <td>1</td>\n",
       "    </tr>\n",
       "    <tr>\n",
       "      <th>855</th>\n",
       "      <td>environmental</td>\n",
       "      <td>1</td>\n",
       "    </tr>\n",
       "  </tbody>\n",
       "</table>\n",
       "<p>856 rows × 2 columns</p>\n",
       "</div>"
      ],
      "text/plain": [
       "           Product  Frequency\n",
       "0            above          9\n",
       "1           police          9\n",
       "2          receive          7\n",
       "3           ground          7\n",
       "4            plant          7\n",
       "..             ...        ...\n",
       "851         finish          1\n",
       "852         course          1\n",
       "853            and          1\n",
       "854        between          1\n",
       "855  environmental          1\n",
       "\n",
       "[856 rows x 2 columns]"
      ]
     },
     "metadata": {},
     "output_type": "display_data"
    },
    {
     "name": "stdout",
     "output_type": "stream",
     "text": [
      "\n",
      "Frequency Table for Shipping_Method:\n",
      "\n"
     ]
    },
    {
     "data": {
      "text/html": [
       "<div>\n",
       "<style scoped>\n",
       "    .dataframe tbody tr th:only-of-type {\n",
       "        vertical-align: middle;\n",
       "    }\n",
       "\n",
       "    .dataframe tbody tr th {\n",
       "        vertical-align: top;\n",
       "    }\n",
       "\n",
       "    .dataframe thead th {\n",
       "        text-align: right;\n",
       "    }\n",
       "</style>\n",
       "<table border=\"1\" class=\"dataframe\">\n",
       "  <thead>\n",
       "    <tr style=\"text-align: right;\">\n",
       "      <th></th>\n",
       "      <th>Shipping_Method</th>\n",
       "      <th>Frequency</th>\n",
       "    </tr>\n",
       "  </thead>\n",
       "  <tbody>\n",
       "    <tr>\n",
       "      <th>0</th>\n",
       "      <td>Sea</td>\n",
       "      <td>691</td>\n",
       "    </tr>\n",
       "    <tr>\n",
       "      <th>1</th>\n",
       "      <td>Air</td>\n",
       "      <td>664</td>\n",
       "    </tr>\n",
       "    <tr>\n",
       "      <th>2</th>\n",
       "      <td>Land</td>\n",
       "      <td>646</td>\n",
       "    </tr>\n",
       "  </tbody>\n",
       "</table>\n",
       "</div>"
      ],
      "text/plain": [
       "  Shipping_Method  Frequency\n",
       "0             Sea        691\n",
       "1             Air        664\n",
       "2            Land        646"
      ]
     },
     "metadata": {},
     "output_type": "display_data"
    },
    {
     "name": "stdout",
     "output_type": "stream",
     "text": [
      "\n",
      "Frequency Table for Import_Export:\n",
      "\n"
     ]
    },
    {
     "data": {
      "text/html": [
       "<div>\n",
       "<style scoped>\n",
       "    .dataframe tbody tr th:only-of-type {\n",
       "        vertical-align: middle;\n",
       "    }\n",
       "\n",
       "    .dataframe tbody tr th {\n",
       "        vertical-align: top;\n",
       "    }\n",
       "\n",
       "    .dataframe thead th {\n",
       "        text-align: right;\n",
       "    }\n",
       "</style>\n",
       "<table border=\"1\" class=\"dataframe\">\n",
       "  <thead>\n",
       "    <tr style=\"text-align: right;\">\n",
       "      <th></th>\n",
       "      <th>Import_Export</th>\n",
       "      <th>Frequency</th>\n",
       "    </tr>\n",
       "  </thead>\n",
       "  <tbody>\n",
       "    <tr>\n",
       "      <th>0</th>\n",
       "      <td>Import</td>\n",
       "      <td>1028</td>\n",
       "    </tr>\n",
       "    <tr>\n",
       "      <th>1</th>\n",
       "      <td>Export</td>\n",
       "      <td>973</td>\n",
       "    </tr>\n",
       "  </tbody>\n",
       "</table>\n",
       "</div>"
      ],
      "text/plain": [
       "  Import_Export  Frequency\n",
       "0        Import       1028\n",
       "1        Export        973"
      ]
     },
     "metadata": {},
     "output_type": "display_data"
    },
    {
     "name": "stdout",
     "output_type": "stream",
     "text": [
      "\n",
      "Frequency Table for Payment_Terms:\n",
      "\n"
     ]
    },
    {
     "data": {
      "text/html": [
       "<div>\n",
       "<style scoped>\n",
       "    .dataframe tbody tr th:only-of-type {\n",
       "        vertical-align: middle;\n",
       "    }\n",
       "\n",
       "    .dataframe tbody tr th {\n",
       "        vertical-align: top;\n",
       "    }\n",
       "\n",
       "    .dataframe thead th {\n",
       "        text-align: right;\n",
       "    }\n",
       "</style>\n",
       "<table border=\"1\" class=\"dataframe\">\n",
       "  <thead>\n",
       "    <tr style=\"text-align: right;\">\n",
       "      <th></th>\n",
       "      <th>Payment_Terms</th>\n",
       "      <th>Frequency</th>\n",
       "    </tr>\n",
       "  </thead>\n",
       "  <tbody>\n",
       "    <tr>\n",
       "      <th>0</th>\n",
       "      <td>Prepaid</td>\n",
       "      <td>516</td>\n",
       "    </tr>\n",
       "    <tr>\n",
       "      <th>1</th>\n",
       "      <td>Net 30</td>\n",
       "      <td>515</td>\n",
       "    </tr>\n",
       "    <tr>\n",
       "      <th>2</th>\n",
       "      <td>Cash on Delivery</td>\n",
       "      <td>488</td>\n",
       "    </tr>\n",
       "    <tr>\n",
       "      <th>3</th>\n",
       "      <td>Net 60</td>\n",
       "      <td>482</td>\n",
       "    </tr>\n",
       "  </tbody>\n",
       "</table>\n",
       "</div>"
      ],
      "text/plain": [
       "      Payment_Terms  Frequency\n",
       "0           Prepaid        516\n",
       "1            Net 30        515\n",
       "2  Cash on Delivery        488\n",
       "3            Net 60        482"
      ]
     },
     "metadata": {},
     "output_type": "display_data"
    }
   ],
   "source": [
    "# Frequency counts for categorical columns\n",
    "category_columns = ['Country', 'Product', 'Shipping_Method','Import_Export' , \"Payment_Terms\"]\n",
    "\n",
    "cat_data = sample[category_columns]  # Make sure your sample dataset is correct\n",
    "\n",
    "# Initializing an empty dictionary to store frequency tables\n",
    "frequency_tables = {}\n",
    "\n",
    "# Looping through each column and calculate the frequency table\n",
    "for col in category_columns:\n",
    "    if col in cat_data.columns:\n",
    "        # Calculating frequency using value_counts()\n",
    "        frequency_table = cat_data[col].value_counts().reset_index()\n",
    "        frequency_table.columns = [col, 'Frequency']\n",
    "        \n",
    "        # Storing the frequency table in the dictionary\n",
    "        frequency_tables[col] = frequency_table\n",
    "        \n",
    "        # Printing the frequency table for the column\n",
    "        print(f\"\\nFrequency Table for {col}:\\n\")\n",
    "        display(frequency_table)\n",
    "    else:\n",
    "        print(f\"Column '{col}' does not exist in the dataset.\")"
   ]
  },
  {
   "cell_type": "markdown",
   "id": "1c95846b-2629-4007-af6a-f50b78573570",
   "metadata": {},
   "source": [
    "# Frequency of Country:\n",
    "Top 3 Countries: Congo (16), Korea (15), Antartica (15)\n",
    "\n",
    "Least Frequent Countries: Some countries like Libyan Arab Jamahiriya (3), Cuba (3), Saint Martin (3)  appear infrequently.\n",
    "\n",
    "# Frequency of Product:\n",
    "Top Product: Product \"above\" appeared most frequently (9 occurrences).\n",
    "\n",
    "Rare Products: Products like finish,and,course,between and few others are rare, appearing only once.\n",
    "\n",
    "With 850 unique products, this indicates a broad variety of products, but a few seem to dominate.\n",
    "\n",
    "# Frequency of Shipping Method:\n",
    "Sea\t(691): Sea  is the most common method \r",
    "\tAir(\t66) : Air follows closely behind.42\tLa (d\t6) : Land shipping is the least common method.nd.\n",
    "\n",
    "This nearly even distribution of shipping methods suggests flexibility in shipping based on product or location requirements.\n",
    "\n",
    "# Frequency of Import/Export:\n",
    "Export73997): Slightly less transactions are that of exports than imports.\n",
    "\n",
    "Import 28004): The number of import transactions is more than exports.\n",
    "\n",
    "This balance indicates that the dataset contains a nearly equal mix of import and export transactions.\n",
    "\n",
    "# Frequency of Payment Terms:\n",
    "Prepaid1(526): The most common payment term is Prepaid.\n",
    "\n",
    "N3t 65154980),Cash on Delivery 84 and Net 60 (482),87) follow closely.\n",
    "\n",
    "The distribution of payment terms suggests that multiple methods are nearly equally preferred, with a dominant one that is Prepaid."
   ]
  },
  {
   "cell_type": "markdown",
   "id": "76dc0469",
   "metadata": {},
   "source": [
    "#### Cross - Tabulation ( Category vs Value and Quantity)"
   ]
  },
  {
   "cell_type": "code",
   "execution_count": 58,
   "id": "43bd185b",
   "metadata": {},
   "outputs": [
    {
     "data": {
      "text/html": [
       "<div>\n",
       "<style scoped>\n",
       "    .dataframe tbody tr th:only-of-type {\n",
       "        vertical-align: middle;\n",
       "    }\n",
       "\n",
       "    .dataframe tbody tr th {\n",
       "        vertical-align: top;\n",
       "    }\n",
       "\n",
       "    .dataframe thead th {\n",
       "        text-align: right;\n",
       "    }\n",
       "</style>\n",
       "<table border=\"1\" class=\"dataframe\">\n",
       "  <thead>\n",
       "    <tr style=\"text-align: right;\">\n",
       "      <th></th>\n",
       "      <th>Country</th>\n",
       "      <th>Avg_Value</th>\n",
       "      <th>Avg_Quantity</th>\n",
       "    </tr>\n",
       "  </thead>\n",
       "  <tbody>\n",
       "    <tr>\n",
       "      <th>1</th>\n",
       "      <td>Syrian Arab Republic</td>\n",
       "      <td>8688.52</td>\n",
       "      <td>4546.00</td>\n",
       "    </tr>\n",
       "    <tr>\n",
       "      <th>2</th>\n",
       "      <td>Norfolk Island</td>\n",
       "      <td>7881.92</td>\n",
       "      <td>4417.09</td>\n",
       "    </tr>\n",
       "    <tr>\n",
       "      <th>3</th>\n",
       "      <td>Niue</td>\n",
       "      <td>7607.42</td>\n",
       "      <td>5678.14</td>\n",
       "    </tr>\n",
       "    <tr>\n",
       "      <th>4</th>\n",
       "      <td>Isle of Man</td>\n",
       "      <td>7605.64</td>\n",
       "      <td>3218.83</td>\n",
       "    </tr>\n",
       "    <tr>\n",
       "      <th>5</th>\n",
       "      <td>Swaziland</td>\n",
       "      <td>7507.34</td>\n",
       "      <td>5801.00</td>\n",
       "    </tr>\n",
       "  </tbody>\n",
       "</table>\n",
       "</div>"
      ],
      "text/plain": [
       "                Country  Avg_Value  Avg_Quantity\n",
       "1  Syrian Arab Republic    8688.52       4546.00\n",
       "2        Norfolk Island    7881.92       4417.09\n",
       "3                  Niue    7607.42       5678.14\n",
       "4           Isle of Man    7605.64       3218.83\n",
       "5             Swaziland    7507.34       5801.00"
      ]
     },
     "metadata": {},
     "output_type": "display_data"
    }
   ],
   "source": [
    "# Group by 'Country' and calculate the average for 'Value' and 'Quantity'\n",
    "country_avg = sample.groupby('Country').agg(\n",
    "    Avg_Value=('Value', 'mean'),\n",
    "    Avg_Quantity=('Quantity', 'mean')\n",
    ").reset_index()\n",
    "\n",
    "# Sort by 'Avg_Value' and 'Avg_Quantity' in descending order\n",
    "country_avg_sorted = country_avg.sort_values(by=['Avg_Value', 'Avg_Quantity'], ascending=False)\n",
    "\n",
    "# Get the top 5 countries with highest average value and quantity\n",
    "top_5_countries = country_avg_sorted.head(5)\n",
    "top_5_countries = np.round(top_5_countries.reset_index(drop=True),2)\n",
    "top_5_countries.index=top_5_countries.index+1\n",
    "\n",
    "\n",
    "# Display the resulting DataFrame\n",
    "                                                \n",
    "display(top_5_countries)"
   ]
  },
  {
   "cell_type": "markdown",
   "id": "ee6ddf49",
   "metadata": {},
   "source": [
    "### Key Observations & Analysis:\r\n",
    "\r\n",
    "#### **Syrian Arab Republic**\r\n",
    "\r\n",
    "**Average Value:** 8,688.52\r\n",
    "\r\n",
    "**Average Quantity:** 4,546.00\r\n",
    "\r\n",
    "The Syrian Arab Republic has the highest average transaction value and quantity among the top 5 countries. This indicates that the country deals with high-value and large-quantity goods in each transaction.\r\n",
    "\r\n",
    "#### **Norfolk Island**\r\n",
    "\r\n",
    "**Average Value:** 7,881.92\r\n",
    "\r\n",
    "**Average Quantity:** 4,417.09\r\n",
    "\r\n",
    "Norfolk Island has the second-highest average transaction value. The relatively high quantity might be due to bulk imports or exports, which often involve large consignments.\r\n",
    "\r\n",
    "#### **Niue**\r\n",
    "\r\n",
    "**Average Value:** 7,607.42\r\n",
    "\r\n",
    "**Average Quantity:** 5,678.14\r\n",
    "\r\n",
    "Niue’s average value is quite high, and the quantity is larger than other countries in this list. This suggests significant involvement in goods that require high volumes, possibly bulk commodities.\r\n",
    "\r\n",
    "#### **Isle of Man**\r\n",
    "\r\n",
    "**Average Value:** 7,605.64\r\n",
    "\r\n",
    "**Average Quantity:** 3,218.83\r\n",
    "\r\n",
    "The Isle of Man's average value is similar to Niue, but the quantity is much lower. This could indicate a focus on high-value, lower-volume goods, such as luxury items or specialized equipment.\r\n",
    "\r\n",
    "#### **Swaziland**\r\n",
    "\r\n",
    "**Average Value:** 7,507.34\r\n",
    "\r\n",
    "**Average Quantity:** 5,801.00\r\n",
    "\r\n",
    "Swaziland’s average value and quantity indicate balanced trade, with significant volumes and substantial transaction values. This could be reflective of diverse trade goods or materials.\r\n"
   ]
  },
  {
   "cell_type": "markdown",
   "id": "e3be7643",
   "metadata": {},
   "source": [
    "#### Cross - Tabulation ( Maximum Weight in KGs by Shipping Method and Category)"
   ]
  },
  {
   "cell_type": "code",
   "execution_count": 62,
   "id": "c8aebc8b",
   "metadata": {},
   "outputs": [
    {
     "name": "stdout",
     "output_type": "stream",
     "text": [
      "\n",
      " Maximum Weight in KGs by Shipping Method and Category :\n"
     ]
    },
    {
     "data": {
      "text/html": [
       "<div>\n",
       "<style scoped>\n",
       "    .dataframe tbody tr th:only-of-type {\n",
       "        vertical-align: middle;\n",
       "    }\n",
       "\n",
       "    .dataframe tbody tr th {\n",
       "        vertical-align: top;\n",
       "    }\n",
       "\n",
       "    .dataframe thead th {\n",
       "        text-align: right;\n",
       "    }\n",
       "</style>\n",
       "<table border=\"1\" class=\"dataframe\">\n",
       "  <thead>\n",
       "    <tr style=\"text-align: right;\">\n",
       "      <th>Category</th>\n",
       "      <th>Clothing</th>\n",
       "      <th>Electronics</th>\n",
       "      <th>Furniture</th>\n",
       "      <th>Machinery</th>\n",
       "      <th>Toys</th>\n",
       "    </tr>\n",
       "    <tr>\n",
       "      <th>Shipping_Method</th>\n",
       "      <th></th>\n",
       "      <th></th>\n",
       "      <th></th>\n",
       "      <th></th>\n",
       "      <th></th>\n",
       "    </tr>\n",
       "  </thead>\n",
       "  <tbody>\n",
       "    <tr>\n",
       "      <th>Air</th>\n",
       "      <td>4897.66</td>\n",
       "      <td>4939.42</td>\n",
       "      <td>4992.64</td>\n",
       "      <td>4979.12</td>\n",
       "      <td>4989.08</td>\n",
       "    </tr>\n",
       "    <tr>\n",
       "      <th>Land</th>\n",
       "      <td>4992.70</td>\n",
       "      <td>4969.01</td>\n",
       "      <td>4921.09</td>\n",
       "      <td>4981.86</td>\n",
       "      <td>4979.10</td>\n",
       "    </tr>\n",
       "    <tr>\n",
       "      <th>Sea</th>\n",
       "      <td>4896.75</td>\n",
       "      <td>4990.24</td>\n",
       "      <td>4970.20</td>\n",
       "      <td>4982.90</td>\n",
       "      <td>4959.85</td>\n",
       "    </tr>\n",
       "  </tbody>\n",
       "</table>\n",
       "</div>"
      ],
      "text/plain": [
       "Category         Clothing  Electronics  Furniture  Machinery     Toys\n",
       "Shipping_Method                                                      \n",
       "Air               4897.66      4939.42    4992.64    4979.12  4989.08\n",
       "Land              4992.70      4969.01    4921.09    4981.86  4979.10\n",
       "Sea               4896.75      4990.24    4970.20    4982.90  4959.85"
      ]
     },
     "metadata": {},
     "output_type": "display_data"
    }
   ],
   "source": [
    "print(\"\\n Maximum Weight in KGs by Shipping Method and Category :\")\n",
    "\n",
    "cross_table_max_weight = sample.pivot_table(\n",
    "    index='Shipping_Method',\n",
    "    columns='Category',\n",
    "    values='Weight',\n",
    "    aggfunc='max'\n",
    ")\n",
    "\n",
    "# Display the resulting pivot table\n",
    "display(cross_table_max_weight)"
   ]
  },
  {
   "cell_type": "markdown",
   "id": "f1094913",
   "metadata": {},
   "source": [
    "**Key Observations:**\r\n",
    "\r\n",
    "-   **Category:** The maximum weight allowed varies across different product categories.\r\n",
    "-   **Shipping Method:** The maximum weight also differs depending on the shipping method used.\r\n",
    "-   **Overall Trend:** There is a general trend where the maximum weight for each category is relatively similar across different shipping methods, with minor variations.\r\n",
    "\r\n",
    "**Specific Insights:**\r\n",
    "\r\n",
    "-   **Clothing:** The maximum weight for clothing is consistently around 4890-4990 kgs, with land shipping showing the highest value at 4992.70 kgs.\r\n",
    "-   **Electronics:** Electronics have a consistent maximum weight range of 4930-4990 kgs, with sea shipping showing the highest value at 4990.24 kgs.\r\n",
    "-   **Furniture:** Furniture shows a slight variation, with land shipping having the lowest maximum weight at 4921.09 kgs, while air shipping has the highest at 4992.64 kgs.\r\n",
    "-   **Machinery:** Machinery's maximum weight is relatively high across all methods, with sea shipping showing the highest value at 4982.90 kgs.\r\n",
    "-   **Toys:** Toys have a consistent maximum weight range of 4950-4990 kgs, with air shipping showing the highest value at 4989.08 kgs.\r\n",
    "\r\n",
    "**Possible Explanations:**\r\n",
    "\r\n",
    "-   **Dimensional Constraints:** The maximum weight limits might be influenced by factors such as the size and shape of shipping containers or the capacity of transportation vehicles.\r\n",
    "-   **Weight-to-Value Ratio:** Products with higher value-to-weight ratios (e.g., electronics) might have stricter weight limits due to their sensitivity or potential for theft.\r\n",
    "-   **Shipping Method Characteristics:** Air shipping might have slightly higher weight limits for certain categories due to its faster transit times and reduced handling.\r\n"
   ]
  },
  {
   "cell_type": "markdown",
   "id": "2ef91e07",
   "metadata": {},
   "source": [
    "#### Cross - Tabulation ( Count of products by their payment terms per Category)"
   ]
  },
  {
   "cell_type": "code",
   "execution_count": 66,
   "id": "a194fdf6",
   "metadata": {},
   "outputs": [
    {
     "name": "stdout",
     "output_type": "stream",
     "text": [
      "\n",
      " Count of products by their payment terms per Category :\n"
     ]
    },
    {
     "data": {
      "text/html": [
       "<style type=\"text/css\">\n",
       "</style>\n",
       "<table id=\"T_c0a19\">\n",
       "  <thead>\n",
       "    <tr>\n",
       "      <th class=\"index_name level0\" >Payment_Terms</th>\n",
       "      <th id=\"T_c0a19_level0_col0\" class=\"col_heading level0 col0\" >Cash on Delivery</th>\n",
       "      <th id=\"T_c0a19_level0_col1\" class=\"col_heading level0 col1\" >Net 30</th>\n",
       "      <th id=\"T_c0a19_level0_col2\" class=\"col_heading level0 col2\" >Net 60</th>\n",
       "      <th id=\"T_c0a19_level0_col3\" class=\"col_heading level0 col3\" >Prepaid</th>\n",
       "    </tr>\n",
       "    <tr>\n",
       "      <th class=\"index_name level0\" >Category</th>\n",
       "      <th class=\"blank col0\" >&nbsp;</th>\n",
       "      <th class=\"blank col1\" >&nbsp;</th>\n",
       "      <th class=\"blank col2\" >&nbsp;</th>\n",
       "      <th class=\"blank col3\" >&nbsp;</th>\n",
       "    </tr>\n",
       "  </thead>\n",
       "  <tbody>\n",
       "    <tr>\n",
       "      <th id=\"T_c0a19_level0_row0\" class=\"row_heading level0 row0\" >Clothing</th>\n",
       "      <td id=\"T_c0a19_row0_col0\" class=\"data row0 col0\" >90</td>\n",
       "      <td id=\"T_c0a19_row0_col1\" class=\"data row0 col1\" >108</td>\n",
       "      <td id=\"T_c0a19_row0_col2\" class=\"data row0 col2\" >108</td>\n",
       "      <td id=\"T_c0a19_row0_col3\" class=\"data row0 col3\" >95</td>\n",
       "    </tr>\n",
       "    <tr>\n",
       "      <th id=\"T_c0a19_level0_row1\" class=\"row_heading level0 row1\" >Electronics</th>\n",
       "      <td id=\"T_c0a19_row1_col0\" class=\"data row1 col0\" >93</td>\n",
       "      <td id=\"T_c0a19_row1_col1\" class=\"data row1 col1\" >110</td>\n",
       "      <td id=\"T_c0a19_row1_col2\" class=\"data row1 col2\" >97</td>\n",
       "      <td id=\"T_c0a19_row1_col3\" class=\"data row1 col3\" >120</td>\n",
       "    </tr>\n",
       "    <tr>\n",
       "      <th id=\"T_c0a19_level0_row2\" class=\"row_heading level0 row2\" >Furniture</th>\n",
       "      <td id=\"T_c0a19_row2_col0\" class=\"data row2 col0\" >105</td>\n",
       "      <td id=\"T_c0a19_row2_col1\" class=\"data row2 col1\" >103</td>\n",
       "      <td id=\"T_c0a19_row2_col2\" class=\"data row2 col2\" >85</td>\n",
       "      <td id=\"T_c0a19_row2_col3\" class=\"data row2 col3\" >102</td>\n",
       "    </tr>\n",
       "    <tr>\n",
       "      <th id=\"T_c0a19_level0_row3\" class=\"row_heading level0 row3\" >Machinery</th>\n",
       "      <td id=\"T_c0a19_row3_col0\" class=\"data row3 col0\" >100</td>\n",
       "      <td id=\"T_c0a19_row3_col1\" class=\"data row3 col1\" >106</td>\n",
       "      <td id=\"T_c0a19_row3_col2\" class=\"data row3 col2\" >91</td>\n",
       "      <td id=\"T_c0a19_row3_col3\" class=\"data row3 col3\" >96</td>\n",
       "    </tr>\n",
       "    <tr>\n",
       "      <th id=\"T_c0a19_level0_row4\" class=\"row_heading level0 row4\" >Toys</th>\n",
       "      <td id=\"T_c0a19_row4_col0\" class=\"data row4 col0\" >100</td>\n",
       "      <td id=\"T_c0a19_row4_col1\" class=\"data row4 col1\" >88</td>\n",
       "      <td id=\"T_c0a19_row4_col2\" class=\"data row4 col2\" >101</td>\n",
       "      <td id=\"T_c0a19_row4_col3\" class=\"data row4 col3\" >103</td>\n",
       "    </tr>\n",
       "  </tbody>\n",
       "</table>\n"
      ],
      "text/plain": [
       "<pandas.io.formats.style.Styler at 0x253fc560bc0>"
      ]
     },
     "execution_count": 66,
     "metadata": {},
     "output_type": "execute_result"
    }
   ],
   "source": [
    "print(\"\\n Count of products by their payment terms per Category :\")\n",
    "\n",
    "# Create pivot table with count of 'Products' for each category and payment term\n",
    "pivot_table = sample.pivot_table(\n",
    "    values='Product',\n",
    "    index='Category',\n",
    "    columns='Payment_Terms',\n",
    "    aggfunc='count'\n",
    ")\n",
    "\n",
    "# Display the pivot table with formatted output\n",
    "pivot_table.style.format({\n",
    "    '': '{:,.0f}'  # Format all values (product counts) with commas and no decimal places\n",
    "})"
   ]
  },
  {
   "cell_type": "markdown",
   "id": "f348db94",
   "metadata": {},
   "source": [
    "**Key Observations:**\r\n",
    "\r\n",
    "-   **Payment Term Distribution:** Across all categories, Net 30 and Net 60 are commonly used payment terms, with some variations based on category.\r\n",
    "-   **Category Variations:** There are clear variations in payment term preferences among different categories.\r\n",
    "-   **Cash on Delivery (COD):** Clothing and Furniture have higher proportions of COD transactions (90 and 105 respectively), compared to Electronics (93), Machinery (100), and Toys (100).\r\n",
    "-   **Net 30:** Electronics and Machinery show higher preferences for Net 30 payments, with values of 110 and 106 respectively.\r\n",
    "-   **Net 60 and Prepaid:** These payment terms vary significantly, with Electronics preferring Prepaid (120), and Toys showing a balanced distribution across payment terms.\r\n",
    "\r\n",
    "**Possible Explanations:**\r\n",
    "\r\n",
    "-   **Product Value and Trust:** For high-value products like Electronics and Machinery, buyers might prefer Net 30 or Prepaid terms to manage cash flow and establish trust.\r\n",
    "-   **Industry Norms:** Some industries (e.g., clothing, furniture) may prefer COD payments as an established practice.\r\n",
    "-   **Customer Preferences:** Individual customer preferences and creditworthiness could influence the choice of payment terms, especially for longer terms like Net 60.\r\n",
    "-   **Supplier Policies:** Suppliers may offer specific payment terms based on their credit policies, product value, and the strength of customer relationships.\r\n"
   ]
  },
  {
   "cell_type": "markdown",
   "id": "3b05e564",
   "metadata": {},
   "source": [
    "### Rank categories based on the most preferred Category(i.e., highest total economic impact)"
   ]
  },
  {
   "cell_type": "code",
   "execution_count": 70,
   "id": "522e17db",
   "metadata": {},
   "outputs": [
    {
     "data": {
      "text/html": [
       "<div>\n",
       "<style scoped>\n",
       "    .dataframe tbody tr th:only-of-type {\n",
       "        vertical-align: middle;\n",
       "    }\n",
       "\n",
       "    .dataframe tbody tr th {\n",
       "        vertical-align: top;\n",
       "    }\n",
       "\n",
       "    .dataframe thead th {\n",
       "        text-align: right;\n",
       "    }\n",
       "</style>\n",
       "<table border=\"1\" class=\"dataframe\">\n",
       "  <thead>\n",
       "    <tr style=\"text-align: right;\">\n",
       "      <th></th>\n",
       "      <th>Total Economic Impact in $</th>\n",
       "      <th>Rank</th>\n",
       "    </tr>\n",
       "    <tr>\n",
       "      <th>Category</th>\n",
       "      <th></th>\n",
       "      <th></th>\n",
       "    </tr>\n",
       "  </thead>\n",
       "  <tbody>\n",
       "    <tr>\n",
       "      <th>Electronics</th>\n",
       "      <td>2287246.81</td>\n",
       "      <td>1.0</td>\n",
       "    </tr>\n",
       "    <tr>\n",
       "      <th>Clothing</th>\n",
       "      <td>2068804.95</td>\n",
       "      <td>2.0</td>\n",
       "    </tr>\n",
       "    <tr>\n",
       "      <th>Furniture</th>\n",
       "      <td>2056013.00</td>\n",
       "      <td>3.0</td>\n",
       "    </tr>\n",
       "    <tr>\n",
       "      <th>Toys</th>\n",
       "      <td>2054098.41</td>\n",
       "      <td>4.0</td>\n",
       "    </tr>\n",
       "    <tr>\n",
       "      <th>Machinery</th>\n",
       "      <td>1906792.94</td>\n",
       "      <td>5.0</td>\n",
       "    </tr>\n",
       "  </tbody>\n",
       "</table>\n",
       "</div>"
      ],
      "text/plain": [
       "             Total Economic Impact in $  Rank\n",
       "Category                                     \n",
       "Electronics                  2287246.81   1.0\n",
       "Clothing                     2068804.95   2.0\n",
       "Furniture                    2056013.00   3.0\n",
       "Toys                         2054098.41   4.0\n",
       "Machinery                    1906792.94   5.0"
      ]
     },
     "metadata": {},
     "output_type": "display_data"
    }
   ],
   "source": [
    "# Rank categories by the total economic impact (Value), higher value gets a higher rank\n",
    "economic_impact = sample.groupby('Category')['Value'].sum()\n",
    "\n",
    "# Rank the categories based on the summed Value in descending order (most preferred = rank 1)\n",
    "economic_impact_rank = economic_impact.rank(ascending=False, method='dense')\n",
    "\n",
    "# Combine the economic impact values and their rank into a DataFrame for better display\n",
    "economic_impact_rank_df = pd.DataFrame({\n",
    "    'Total Economic Impact in $': economic_impact,\n",
    "    'Rank': economic_impact_rank\n",
    "}).sort_values(by='Rank')\n",
    "\n",
    "# Display the DataFrame\n",
    "display(economic_impact_rank_df)\n"
   ]
  },
  {
   "cell_type": "markdown",
   "id": "3285a01d",
   "metadata": {},
   "source": [
    "**Key Observations:**\r\n",
    "\r\n",
    "-   **Electronics** is the category with the highest total economic impact, followed by Clothing, Furniture, Toys, and Machinery.\r\n",
    "-   The economic impact varies significantly across categories, with Electronics having the most substantial impact at $2,287,246.81.\r\n",
    "-   **Clothing** ranks second, while **Machinery** has the lowest economic impact at $1,906,792.94.\r\n",
    "\r\n",
    "**Possible Explanations:**\r\n",
    "\r\n",
    "-   **Product Value:** Electronics might involve higher-value products, leading to a greater overall economic impact compared to other categories.\r\n",
    "-   **Market Demand:** The demand for electronics could be higher, driving more economic activity in this category.\r\n",
    "-   **Technology Influence:** Advances in technology may lead to higher sales and production in the Electronics sector, boosting its economic contribution.\r\n",
    "-   **Supply Chain Factors:** The global supply chain for electronics might involve more expensive materials, intricate manufacturing processes, and high consumer demand, all contributing to its high economic impact.\r\n"
   ]
  },
  {
   "cell_type": "markdown",
   "id": "aa2bea80-fd20-43d1-9b89-908e23bf404b",
   "metadata": {},
   "source": [
    "**Cross-Tabulation ( Country vs Import_Export)**"
   ]
  },
  {
   "cell_type": "code",
   "execution_count": 74,
   "id": "64eca280-ca7e-427a-91ef-2e51cf2d14cd",
   "metadata": {},
   "outputs": [
    {
     "data": {
      "text/plain": [
       "'Cross-tabulation of Country vs Import/Export: '"
      ]
     },
     "metadata": {},
     "output_type": "display_data"
    },
    {
     "data": {
      "text/html": [
       "<div>\n",
       "<style scoped>\n",
       "    .dataframe tbody tr th:only-of-type {\n",
       "        vertical-align: middle;\n",
       "    }\n",
       "\n",
       "    .dataframe tbody tr th {\n",
       "        vertical-align: top;\n",
       "    }\n",
       "\n",
       "    .dataframe thead th {\n",
       "        text-align: right;\n",
       "    }\n",
       "</style>\n",
       "<table border=\"1\" class=\"dataframe\">\n",
       "  <thead>\n",
       "    <tr style=\"text-align: right;\">\n",
       "      <th>Import_Export</th>\n",
       "      <th>Export</th>\n",
       "      <th>Import</th>\n",
       "    </tr>\n",
       "    <tr>\n",
       "      <th>Country</th>\n",
       "      <th></th>\n",
       "      <th></th>\n",
       "    </tr>\n",
       "  </thead>\n",
       "  <tbody>\n",
       "    <tr>\n",
       "      <th>Afghanistan</th>\n",
       "      <td>3</td>\n",
       "      <td>6</td>\n",
       "    </tr>\n",
       "    <tr>\n",
       "      <th>Albania</th>\n",
       "      <td>3</td>\n",
       "      <td>5</td>\n",
       "    </tr>\n",
       "    <tr>\n",
       "      <th>Algeria</th>\n",
       "      <td>4</td>\n",
       "      <td>4</td>\n",
       "    </tr>\n",
       "    <tr>\n",
       "      <th>American Samoa</th>\n",
       "      <td>4</td>\n",
       "      <td>5</td>\n",
       "    </tr>\n",
       "    <tr>\n",
       "      <th>Andorra</th>\n",
       "      <td>3</td>\n",
       "      <td>1</td>\n",
       "    </tr>\n",
       "  </tbody>\n",
       "</table>\n",
       "</div>"
      ],
      "text/plain": [
       "Import_Export   Export  Import\n",
       "Country                       \n",
       "Afghanistan          3       6\n",
       "Albania              3       5\n",
       "Algeria              4       4\n",
       "American Samoa       4       5\n",
       "Andorra              3       1"
      ]
     },
     "metadata": {},
     "output_type": "display_data"
    }
   ],
   "source": [
    "# Cross-tabulation of categorical variables\n",
    "country_vs_import_export = pd.crosstab(sample['Country'], sample['Import_Export']).head()\n",
    "\n",
    "display(\"Cross-tabulation of Country vs Import/Export: \", country_vs_import_export)"
   ]
  },
  {
   "cell_type": "markdown",
   "id": "a4382045-e06d-46ee-bd8f-609a5acd97ca",
   "metadata": {},
   "source": [
    "**Top 5 Countries in Import/Export:**\r\n",
    "\r\n",
    "The cross-tabulation shows how different countries engage in trade:\r\n",
    "\r\n",
    "- **Afghanistan** leans more toward imports with 6 imports compared to 3 exports.\r\n",
    "- **Albania** shows a balanced approach with 3 exports and 5 imports, slightly favoring imports.\r\n",
    "- **Algeria** has an even split between exports (4) and imports (4), reflecting a balanced trade.\r\n",
    "- **American Samoa** has a stronger focus on imports (5) compared to exports (4).\r\n",
    "- **Andorra** leans more toward exports, with 3 exports and only 1 import.\r\n",
    "\r\n",
    "This analysis indicates that most countries in this group have a higher focus on imports, with **Albania** showing the only notable tendency towards exports.\r\n"
   ]
  },
  {
   "cell_type": "markdown",
   "id": "100cb7ce-83c0-417f-a59a-b00b559d5f98",
   "metadata": {},
   "source": [
    "**Inferential Statistics**"
   ]
  },
  {
   "cell_type": "code",
   "execution_count": 78,
   "id": "ce6000a9-cf8a-4af6-baf6-1e0a0c3d641d",
   "metadata": {},
   "outputs": [
    {
     "name": "stdout",
     "output_type": "stream",
     "text": [
      "t-statistic: 0.177\n",
      "p-value: 0.86\n"
     ]
    }
   ],
   "source": [
    "from scipy import stats\n",
    "\n",
    "# Subsetting data for imports and exports\n",
    "import_data = sample[sample['Import_Export'] == 'Import']['Value']\n",
    "export_data = sample[sample['Import_Export'] == 'Export']['Value']\n",
    "\n",
    "# t-test to compare means of import vs export values\n",
    "t_stat, p_value = np.round(stats.ttest_ind(import_data, export_data),3)\n",
    "\n",
    "print(\"t-statistic:\", t_stat)\n",
    "print(\"p-value:\", p_value)"
   ]
  },
  {
   "cell_type": "markdown",
   "id": "67ac5208-2b52-45b4-9868-5edf79d8ca75",
   "metadata": {},
   "source": [
    "**Chi-Square Test for Categorical Variables ( Country vs Import_Export)**"
   ]
  },
  {
   "cell_type": "code",
   "execution_count": 81,
   "id": "c85ea1d7-adf9-4d9c-8973-092387b4cd41",
   "metadata": {},
   "outputs": [
    {
     "name": "stdout",
     "output_type": "stream",
     "text": [
      "Chi-squared Statistic: 210.56189272622962\n",
      "p-value: 0.9285932768075652\n"
     ]
    }
   ],
   "source": [
    "# Chi-squared test of independence between Country and Import_Export\n",
    "contingency_table = pd.crosstab(sample['Country'], sample['Import_Export'])\n",
    "chi2_stat, p_val, dof, ex = stats.chi2_contingency(contingency_table)\n",
    "\n",
    "print(\"Chi-squared Statistic:\", chi2_stat)\n",
    "print(\"p-value:\", p_val)"
   ]
  },
  {
   "cell_type": "markdown",
   "id": "c8c092ed-fea7-48d3-b5b8-7d2856b3b89b",
   "metadata": {},
   "source": [
    "**ANOVA (Compare Value Across Different Product Categories)**"
   ]
  },
  {
   "cell_type": "code",
   "execution_count": 84,
   "id": "cdb581b3-942f-44d0-a130-3154d4d0a019",
   "metadata": {},
   "outputs": [
    {
     "name": "stdout",
     "output_type": "stream",
     "text": [
      "ANOVA F-statistic: 1.0288091815349913\n",
      "p-value: 0.32721926569635684\n"
     ]
    }
   ],
   "source": [
    "product_groups = [group['Value'].values for name, group in sample.groupby('Product')]\n",
    "\n",
    "f_stat, p_value = stats.f_oneway(*product_groups)\n",
    "\n",
    "print(\"ANOVA F-statistic:\", f_stat)\n",
    "print(\"p-value:\", p_value)"
   ]
  },
  {
   "cell_type": "markdown",
   "id": "e065b180-e0aa-48fa-aa79-0cc00711a4fb",
   "metadata": {},
   "source": [
    "##  **Visualization**"
   ]
  },
  {
   "cell_type": "code",
   "execution_count": 215,
   "id": "5c098c4c-10da-416b-ad4e-b57b0f453cb3",
   "metadata": {},
   "outputs": [
    {
     "data": {
      "image/png": "[encoded data removed]",
      "text/plain": [
       "<Figure size 640x480 with 1 Axes>"
      ]
     },
     "metadata": {},
     "output_type": "display_data"
    }
   ],
   "source": [
    "\n",
    "# Getting the top 10 categories by frequency or total value\n",
    "top_10_categories = sample['Product'].value_counts().nlargest(10).index\n",
    "\n",
    "# Filtering the DataFrame to only include the top 10 categories\n",
    "top_10_sample = sample[sample['Product'].isin(top_10_categories)]\n",
    "\n",
    "# Boxplot for value based on top 10 product categories\n",
    "sns.boxplot(x='Product', y='Value', data=top_10_sample)\n",
    "plt.title('Boxplot of Value by Top 10 Products')\n",
    "plt.xticks(rotation=90)\n",
    "plt.show()"
   ]
  },
  {
   "cell_type": "markdown",
   "id": "2147af8d-b30b-4db8-812a-0539520a0778",
   "metadata": {},
   "source": [
    "**Scatter Plot of Quantity vs Value**"
   ]
  },
  {
   "cell_type": "code",
   "execution_count": 218,
   "id": "c5537336-ed12-45e3-9d08-38b38009d9f0",
   "metadata": {},
   "outputs": [
    {
     "data": {
      "image/png": "[encoded data removed]",
      "text/plain": [
       "<Figure size 640x480 with 1 Axes>"
      ]
     },
     "metadata": {},
     "output_type": "display_data"
    }
   ],
   "source": [
    "# Scatter plot of Quantity vs Value\n",
    "plt.scatter(sample['Quantity'], sample['Value'],color='yellow')\n",
    "plt.title('Scatter Plot of Quantity vs Value')\n",
    "plt.xlabel('Quantity')\n",
    "plt.ylabel('Value')\n",
    "plt.show()"
   ]
  },
  {
   "cell_type": "markdown",
   "id": "d30bb7f4-1707-4fa3-a47f-0b283963be02",
   "metadata": {},
   "source": [
    "Pie Chart for payment terms"
   ]
  },
  {
   "cell_type": "code",
   "execution_count": 221,
   "id": "4557f7ea-379f-4e0a-ad9c-f050c7fcb6b9",
   "metadata": {},
   "outputs": [
    {
     "data": {
      "image/png": "[encoded data removed]",
      "text/plain": [
       "<Figure size 640x480 with 1 Axes>"
      ]
     },
     "metadata": {},
     "output_type": "display_data"
    }
   ],
   "source": [
    "prepaid = 0 \n",
    "net30 = 0\n",
    "cod = 0\n",
    "net60 = 0\n",
    "\n",
    "# Loop to count payment terms\n",
    "for i in range(len(sample['Payment_Terms'])):\n",
    "    payment_term = sample['Payment_Terms'].iloc[i] \n",
    "    \n",
    "    if payment_term == 'Prepaid':\n",
    "        prepaid += 1  # Increment the count for prepaid\n",
    "    elif payment_term == 'Net 30':\n",
    "        net30 += 1  # Increment the count for Net 30\n",
    "    elif payment_term == 'Cash on Delivery':\n",
    "        cod += 1  # Increment the count for Cash on Delivery\n",
    "    elif payment_term == 'Net 60':\n",
    "        net60 += 1  # Increment the count for Net 60\n",
    "\n",
    "# Data for pie plot\n",
    "Payment_Terms = [prepaid, net30, cod, net60]\n",
    "labels = ['Prepaid', 'Net 30', 'Cash on Delivery', 'Net 60']\n",
    "\n",
    "# Creating pie plot with percentage labels\n",
    "plt.pie(Payment_Terms, labels=labels, autopct=lambda p: f'{p:.2f}%')\n",
    "plt.title('Pie Plot of Payment Terms')\n",
    "plt.show()"
   ]
  },
  {
   "cell_type": "markdown",
   "id": "cfbf6652-ed5d-44c1-9f60-13be81859f21",
   "metadata": {},
   "source": [
    "Through pie chart we can say that all 4 payment terms are more or less are equally preferred during the transactions \n",
    "The highly preferred one is Prepaid with 26.29% of the total weightage."
   ]
  },
  {
   "cell_type": "markdown",
   "id": "5b5f0b6b-18cb-4e99-bd46-85ebd3cf57a2",
   "metadata": {},
   "source": [
    "**Histogram of Value**"
   ]
  },
  {
   "cell_type": "code",
   "execution_count": 225,
   "id": "67f49450-f86d-451a-a6cd-11a40def8b6a",
   "metadata": {},
   "outputs": [
    {
     "data": {
      "image/png": "[encoded data removed]",
      "text/plain": [
       "<Figure size 640x480 with 1 Axes>"
      ]
     },
     "metadata": {},
     "output_type": "display_data"
    }
   ],
   "source": [
    "# Histogram of the 'Value' column\n",
    "plt.hist(sample['Value'], bins=20, edgecolor='k',color='green')\n",
    "plt.title('Histogram of Transaction Values')\n",
    "plt.xlabel('Value')\n",
    "plt.ylabel('Frequency')\n",
    "plt.show()"
   ]
  },
  {
   "cell_type": "markdown",
   "id": "cb5d6134-d50b-4e68-8502-599eb3f03fec",
   "metadata": {},
   "source": [
    "# NON-CATEGORICAL DATA"
   ]
  },
  {
   "cell_type": "markdown",
   "id": "011429e6-8c01-48ac-a446-39e572431c7c",
   "metadata": {},
   "source": [
    "# COMPOSITE MEASURE"
   ]
  },
  {
   "cell_type": "code",
   "execution_count": 229,
   "id": "9d2647f5-6acd-4dc6-a2fb-107b6fa850a8",
   "metadata": {},
   "outputs": [
    {
     "name": "stdout",
     "output_type": "stream",
     "text": [
      "Coefficient of variation for Quantity :  0.5854282638712399\n",
      "Coefficient of variation for Value :  0.5559826620836185\n",
      "Coefficient of variation for Weight :  0.5829836647865924\n"
     ]
    }
   ],
   "source": [
    "import statistics as stats\n",
    "\n",
    "# coefficient of quantity\n",
    "Coeff_Var_Quantity = stats.stdev(non_categorical_df['Quantity'])/stats.mean(non_categorical_df['Quantity'])\n",
    "print('Coefficient of variation for Quantity : ', Coeff_Var_Quantity)\n",
    "\n",
    "Coeff_Var_Value = stats.stdev(non_categorical_df['Value'])/stats.mean(non_categorical_df['Value'])\n",
    "print('Coefficient of variation for Value : ', Coeff_Var_Value)\n",
    "\n",
    "# coefficient of weight\n",
    "Coeff_Var_Weight = stats.stdev(non_categorical_df['Weight'])/stats.mean(non_categorical_df['Weight'])\n",
    "print('Coefficient of variation for Weight : ', Coeff_Var_Weight) "
   ]
  },
  {
   "cell_type": "markdown",
   "id": "d125249d-cc51-487f-ab47-56c6594fa7f4",
   "metadata": {},
   "source": [
    "### Coefficient of Variation Analysis\r\n",
    "\r\n",
    "- **Coefficient of Variation for Quantity:** 0.5854\r\n",
    "- **Coefficient of Variation for Value:** 0.5560\r\n",
    "- **Coefficient of Variation for Weight:** 0.5830\r\n",
    "\r\n",
    "The coefficient of variation tells us about the variability present within the dataset. \r\n",
    "\r\n",
    "---\r\n",
    "\r\n",
    "# QUANTITY:\r\n",
    "Quantities have a variation of **0.5655**. This implies that:\r\n",
    "1. Quantities are spread out around the mean by approximately **56.54%** of the mean value.\r\n",
    "2. They are not too clustered around the mean but have different quantity ranges.\r\n",
    "\r\n",
    "---\r\n",
    "\r\n",
    "# VALUE:\r\n",
    "Values have a variation of **0.5761**. This implies that:\r\n",
    "1. Values are spread around the mean by approximately **57.61%** of the mean value.\r\n",
    "2. Different values for different transactions are present.\r\n",
    "\r\n",
    "---\r\n",
    "\r\n",
    "# WEIGHT:\r\n",
    "Weights have a variation of **0.5792** among them. This implies that:\r\n",
    "1. Weights are spread around the mean by approximately **57.91%** of the mean value.\r\n",
    "2. Inconsistencies in weights are present, indicating that different weights for different quantities are observed.\r\n",
    "\r\n",
    "---\r\n"
   ]
  },
  {
   "cell_type": "code",
   "execution_count": 232,
   "id": "563187bc-9ca7-4eab-b834-d5ffd55f5f13",
   "metadata": {},
   "outputs": [
    {
     "data": {
      "text/plain": [
       "0.011403493848768386"
      ]
     },
     "execution_count": 232,
     "metadata": {},
     "output_type": "execute_result"
    }
   ],
   "source": [
    "# correlation between quantity and weight\n",
    "non_categorical_df['Quantity'].corr(non_categorical_df['Weight'])"
   ]
  },
  {
   "cell_type": "markdown",
   "id": "eb388e72-277b-4cb3-a5fc-03133334ed3a",
   "metadata": {},
   "source": [
    "# Correlation between Quantities and Weights\n",
    "\n",
    "The correlation between the quantities and the weights is 0.011403493848768386, which indicates a very weak correlation between the two. This suggests that there is almost no linear relationship between quantity and weight. Two possible reasons for this weak correlation might be:\n",
    "\n",
    "In a manufacturing setting, if you measure the weight of products and their quantities, a very weak correlation could indicate that weight doesn’t scale linearly with quantity, possibly due to varying product types, sizes, or materials.\n",
    "\n",
    "For consumer goods where packaging varies, the quantity and weight may not have a strong linear relationship due to differences in packaging materials and product sizes. For instance, lighter products might be packaged in bulk, while heavier ones might come in smaller quantities."
   ]
  },
  {
   "cell_type": "code",
   "execution_count": 235,
   "id": "e9dc4ba3-c6d1-4a87-a9bc-e9639fd46016",
   "metadata": {},
   "outputs": [
    {
     "data": {
      "text/plain": [
       "-0.014538437147595189"
      ]
     },
     "execution_count": 235,
     "metadata": {},
     "output_type": "execute_result"
    }
   ],
   "source": [
    "# correlation between quantity and Value\n",
    "non_categorical_df['Quantity'].corr(non_categorical_df['Value'])"
   ]
  },
  {
   "cell_type": "markdown",
   "id": "e8d18426-0fcd-4220-b68a-810fc6b39fb7",
   "metadata": {},
   "source": [
    "# Correlation between Quantity and Value \n",
    "\n",
    "The correlation is very weakly negative (-0.014538437147595189), indicating that quantity is very weakly inversely correlated with the transaction value. This suggests that as the quantity increases, the transaction value tends to decrease slightly, but the relationship is almost negligible.\n",
    "\n",
    "Several factors could contribute to this weak negative correlation, such as:\n",
    "\n",
    "Market trends: Shifts in supply and demand can impact both quantity and value differently.\n",
    "Discounts and promotions: Larger quantities might be associated with bulk discounts, leading to a decrease in the overall transaction value per unit.\n",
    "Customer demographics: Different customer segments may purchase varying quantities at different price points, leading to a weak and inconsistent relationship between quantity and value."
   ]
  },
  {
   "cell_type": "code",
   "execution_count": 238,
   "id": "8e53b94b-fe5f-4dd2-9a2e-060e460be7c4",
   "metadata": {},
   "outputs": [],
   "source": [
    "import numpy as np\n",
    "import scipy.stats as stats"
   ]
  },
  {
   "cell_type": "code",
   "execution_count": 240,
   "id": "cfd87f6d-f75e-4857-bcc6-c058354ea2df",
   "metadata": {},
   "outputs": [
    {
     "data": {
      "text/plain": [
       "(4781.580986905709, 5033.4964743636565)"
      ]
     },
     "execution_count": 240,
     "metadata": {},
     "output_type": "execute_result"
    }
   ],
   "source": [
    "# calculation confidence interval for quantity\n",
    "\n",
    "mean = np.mean(non_categorical_df['Quantity'])\n",
    "std_error = stats.sem(non_categorical_df['Quantity'])\n",
    "\n",
    "confidence = 0.95 # 95% comfidence level\n",
    "margin_of_error = std_error * stats.t.ppf((1 + confidence) / 2., len(non_categorical_df['Quantity']) - 1)\n",
    "confidence_interval = (mean - margin_of_error, mean + margin_of_error)\n",
    "\n",
    "confidence_interval"
   ]
  },
  {
   "cell_type": "markdown",
   "id": "b2e8ad32-0556-4809-8355-3a81cafbf5e3",
   "metadata": {},
   "source": [
    "# confidence interval of Quantity\n",
    "This will tells us that the actual average quantity of transactions (including import and export, for the whole dataset) will lie in between (4926.471198963305, 5176.941094889768).\n"
   ]
  },
  {
   "cell_type": "code",
   "execution_count": 243,
   "id": "8bda1bb9-5058-496a-9c3e-cd04f78ebb69",
   "metadata": {},
   "outputs": [
    {
     "data": {
      "text/plain": [
       "(2420.8451821698573, 2547.839795341388)"
      ]
     },
     "execution_count": 243,
     "metadata": {},
     "output_type": "execute_result"
    }
   ],
   "source": [
    "# calculation confidence interval for Weights\n",
    "\n",
    "mean = np.mean(non_categorical_df['Weight'])\n",
    "std_error = stats.sem(non_categorical_df['Weight'])\n",
    "\n",
    "confidence = 0.95 # 95% comfidence level\n",
    "margin_of_error = std_error * stats.t.ppf((1 + confidence) / 2., len(non_categorical_df['Weight']) - 1)\n",
    "confidence_interval = (mean - margin_of_error, mean + margin_of_error)\n",
    "\n",
    "confidence_interval"
   ]
  },
  {
   "cell_type": "markdown",
   "id": "533395e1-79c8-48a6-b8f7-3a2629f17a71",
   "metadata": {},
   "source": [
    "# confidence interval of Weight\n",
    "This will tells us that the actual average weight of transactions (including import and export, for the whole dataset) will lie in between (2425.602132907107, 2551.9929395566583)."
   ]
  },
  {
   "cell_type": "code",
   "execution_count": 246,
   "id": "1eef1f23-70b2-43e5-80e3-d718ae24eec2",
   "metadata": {},
   "outputs": [],
   "source": [
    "# <<---------- end of composite measure ------------>>"
   ]
  },
  {
   "cell_type": "markdown",
   "id": "0ad9957e-5eae-4564-a0d6-31408794e8ca",
   "metadata": {},
   "source": [
    "# INFERENTIAL STATISTICS"
   ]
  },
  {
   "cell_type": "markdown",
   "id": "f9a86f34-a17c-496b-a1ca-1e485a3c1e00",
   "metadata": {},
   "source": [
    "# TEST OF MEAN"
   ]
  },
  {
   "cell_type": "markdown",
   "id": "c0c7e61f-65fe-482d-ab6b-bb733cef6316",
   "metadata": {},
   "source": [
    "# T - test\n",
    " As the columns belongs to same dataset and are information about same entity we will\n",
    " perform paired T - test. "
   ]
  },
  {
   "cell_type": "code",
   "execution_count": 251,
   "id": "230f5a4a-6810-484d-a5fc-8dc6245209cd",
   "metadata": {},
   "outputs": [
    {
     "name": "stdout",
     "output_type": "stream",
     "text": [
      "T-Statistic, p_value and df:  TtestResult(statistic=33.84564760179043, pvalue=6.40908671517031e-199, df=2000)\n",
      "Signifiance difference between the means\n"
     ]
    }
   ],
   "source": [
    "# Test on Quantity and Weight\n",
    "t_stats1 = stats.ttest_rel(non_categorical_df['Quantity'], non_categorical_df['Weight'])\n",
    "print('T-Statistic, p_value and df: ', t_stats1)\n",
    "\n",
    "significance_level = 0.05\n",
    "\n",
    "if t_stats1.pvalue < significance_level:\n",
    "    print('Signifiance difference between the means')\n",
    "else:\n",
    "    print('No Signifiance difference between the means')"
   ]
  },
  {
   "cell_type": "code",
   "execution_count": 253,
   "id": "2b2de57e-c181-49b0-8215-fbb0dac51dc6",
   "metadata": {},
   "outputs": [
    {
     "name": "stdout",
     "output_type": "stream",
     "text": [
      "T-Statistic, p_value and df:  TtestResult(statistic=-3.0157928473930653, pvalue=0.002595357571285729, df=2000)\n",
      "Signifiance difference between the means\n"
     ]
    }
   ],
   "source": [
    "# Test on Quantity and Value\n",
    "t_stats2 = stats.ttest_rel(non_categorical_df['Quantity'], non_categorical_df['Value'])\n",
    "print('T-Statistic, p_value and df: ', t_stats2)\n",
    "\n",
    "\n",
    "significance_level = 0.05\n",
    "\n",
    "if t_stats2.pvalue < significance_level:\n",
    "    print('Signifiance difference between the means')\n",
    "else:\n",
    "    print('No Signifiance difference between the means')"
   ]
  },
  {
   "cell_type": "code",
   "execution_count": 255,
   "id": "f24ca2bf-9205-45ec-8931-aad6bfec7d49",
   "metadata": {},
   "outputs": [
    {
     "name": "stdout",
     "output_type": "stream",
     "text": [
      "T-Statistic, p_value and df:  TtestResult(statistic=-37.59629048357186, pvalue=1.8837208869713976e-234, df=2000)\n",
      "Signifiance difference between the means\n"
     ]
    }
   ],
   "source": [
    "# Test on Weight and Value\n",
    "t_stats3 = stats.ttest_rel(non_categorical_df['Weight'], non_categorical_df['Value'])\n",
    "print('T-Statistic, p_value and df: ', t_stats3)\n",
    "\n",
    "\n",
    "significance_level = 0.05\n",
    "\n",
    "if t_stats3.pvalue < significance_level:\n",
    "    print('Signifiance difference between the means')\n",
    "else:\n",
    "    print('No Signifiance difference between the means')"
   ]
  },
  {
   "cell_type": "code",
   "execution_count": 256,
   "id": "d2e4bc89-f088-401f-bd4c-a84df2287fd7",
   "metadata": {},
   "outputs": [],
   "source": [
    "# <<--------- end of test of Mean ------------->>"
   ]
  },
  {
   "cell_type": "markdown",
   "id": "168e8b64-03e9-4679-b6fd-a34b53965991",
   "metadata": {},
   "source": [
    "# Test of variance:\n",
    "\n",
    "1. F - TEST - using test on quantity and weight"
   ]
  },
  {
   "cell_type": "code",
   "execution_count": 258,
   "id": "def0982a-62d0-4971-b82d-c1763eac77da",
   "metadata": {},
   "outputs": [
    {
     "name": "stdout",
     "output_type": "stream",
     "text": [
      "Variance of Quantity :  8254197.256624199\n",
      "Variance of Weight :  2097662.9424364055\n",
      "p_value for 2 tail:  2.22e-16\n",
      "The variances are significantly different\n"
     ]
    }
   ],
   "source": [
    "var_Quantity = np.var(non_categorical_df['Quantity'], ddof = 1)\n",
    "var_Weight = np.var(non_categorical_df['Weight'], ddof = 1)\n",
    "\n",
    "print('Variance of Quantity : ', var_Quantity)\n",
    "print('Variance of Weight : ', var_Weight)\n",
    "\n",
    "F = var_Quantity / var_Weight\n",
    "\n",
    "dof1 = len(non_categorical_df['Quantity']) - 1\n",
    "dof2 = len(non_categorical_df['Weight']) - 1\n",
    "\n",
    "p_value = 1 - stats.f.cdf(F, dof1, dof2) # cdf = cumulative distribution function\n",
    "\n",
    "p_value_2T = np.round(p_value * 2, 18)\n",
    "print(\"p_value for 2 tail: \", p_value_2T)\n",
    "\n",
    "significance_level = 0.05\n",
    "\n",
    "if (p_value_2T < significance_level):\n",
    "    print(\"The variances are significantly different\")\n",
    "\n",
    "else:\n",
    "    print(\"The variances are not significantly different\")"
   ]
  },
  {
   "cell_type": "markdown",
   "id": "7266d9df-9ca6-43a9-8e30-3063f0d8385b",
   "metadata": {},
   "source": [
    "The cause of significantly different could be less variance of weight as comapre to quantity which also implies that weight is small spread around the mean as comapre to quantity.\n"
   ]
  },
  {
   "cell_type": "markdown",
   "id": "1a76051b-64e5-4f51-a43a-137143177e9d",
   "metadata": {},
   "source": [
    "2. LEVENE TEST - using test on quantity and value\n",
    "\n",
    "For this test lets assume that both entities have equal variance"
   ]
  },
  {
   "cell_type": "code",
   "execution_count": 261,
   "id": "d553dbef-aa90-4347-8b56-b62ba3d33eb0",
   "metadata": {},
   "outputs": [
    {
     "name": "stdout",
     "output_type": "stream",
     "text": [
      "levene's test stats:  0.026160304211763737\n",
      "p_value:  0.8715176123513328\n",
      "No significant difference between the variances\n"
     ]
    }
   ],
   "source": [
    "stat, p_value = stats.levene(non_categorical_df['Quantity'],non_categorical_df['Value'], center = 'median')\n",
    "print(\"levene's test stats: \", stat)\n",
    "print(\"p_value: \", p_value)\n",
    "\n",
    "significance_level = 0.05\n",
    "\n",
    "if p_value < significance_level:\n",
    "    print('Significant difference between the variances')\n",
    "\n",
    "else:\n",
    "    print('No significant difference between the variances')\n"
   ]
  },
  {
   "cell_type": "markdown",
   "id": "168e6a36-e324-4851-bf6a-6449f009f0de",
   "metadata": {},
   "source": [
    "3. BARTLETT TEST - using on weight and value"
   ]
  },
  {
   "cell_type": "code",
   "execution_count": 263,
   "id": "7e4b5b7e-9e0f-42d4-a29a-883f8f33efa8",
   "metadata": {},
   "outputs": [
    {
     "name": "stdout",
     "output_type": "stream",
     "text": [
      "Bartlett's Test Stats:  880.3330015354915\n",
      "P_Value:  1.8503003518077947e-193\n",
      "Significant difference between the variances\n"
     ]
    }
   ],
   "source": [
    "stat, p_value = stats.bartlett(non_categorical_df['Weight'], non_categorical_df['Value'])\n",
    "print(\"Bartlett's Test Stats: \", stat)\n",
    "print(\"P_Value: \", p_value)\n",
    "\n",
    "significance_level = 0.05\n",
    "\n",
    "if p_value < significance_level:\n",
    "    print('Significant difference between the variances')\n",
    "else:\n",
    "    print('No significant difference between the variances')"
   ]
  },
  {
   "cell_type": "markdown",
   "id": "4e3f5505-2f5a-452f-a926-ae55735930ed",
   "metadata": {},
   "source": [
    "# PERFORMING LEVENE AND BARTLETT TEST ON ALL QUANTITY, VALUE AND WEIGHT"
   ]
  },
  {
   "cell_type": "code",
   "execution_count": 265,
   "id": "5358c066-acfa-4ad3-9a40-a35a9d85e47c",
   "metadata": {},
   "outputs": [
    {
     "name": "stdout",
     "output_type": "stream",
     "text": [
      "levene's test stats:  663.2959450116434\n",
      "p_value:  5.594334949683361e-261\n",
      "Significant difference between the variances\n"
     ]
    }
   ],
   "source": [
    "stat, p_value = stats.levene(non_categorical_df['Quantity'],non_categorical_df['Value'],non_categorical_df['Weight'], center = 'median')\n",
    "print(\"levene's test stats: \", stat)\n",
    "print(\"p_value: \", p_value)\n",
    "\n",
    "significance_level = 0.05\n",
    "\n",
    "if p_value < significance_level:\n",
    "    print('Significant difference between the variances')\n",
    "\n",
    "else:\n",
    "    print('No significant difference between the variances')"
   ]
  },
  {
   "cell_type": "code",
   "execution_count": 266,
   "id": "f7b4015c-588e-4b63-aa74-af426c86a1d0",
   "metadata": {},
   "outputs": [
    {
     "name": "stdout",
     "output_type": "stream",
     "text": [
      "Bartlett's Test Stats:  1365.969030847332\n",
      "P_Value:  2.418765281153552e-297\n",
      "Significant difference between the variances\n"
     ]
    }
   ],
   "source": [
    "stat, p_value = stats.bartlett(non_categorical_df['Weight'], non_categorical_df['Value'], non_categorical_df['Weight'])\n",
    "print(\"Bartlett's Test Stats: \", stat)\n",
    "print(\"P_Value: \", p_value)\n",
    "\n",
    "significance_level = 0.05\n",
    "\n",
    "if p_value < significance_level:\n",
    "    print('Significant difference between the variances')\n",
    "else:\n",
    "    print('No significant difference between the variances')"
   ]
  },
  {
   "cell_type": "code",
   "execution_count": 267,
   "id": "d6920cdf-c9cb-48d2-a063-dc82f43b8d56",
   "metadata": {},
   "outputs": [],
   "source": [
    "# <<------------------ end of test of Variance --------------->>"
   ]
  },
  {
   "cell_type": "markdown",
   "id": "047286c2-b773-4d00-a376-5ebb6045b729",
   "metadata": {},
   "source": [
    "# Test of PROPORTION"
   ]
  },
  {
   "cell_type": "markdown",
   "id": "f335025b-4c25-4a95-ae3f-f16986334789",
   "metadata": {},
   "source": [
    "# Z - TEST\n",
    "\n",
    "1. QUANTITY - checking proportion of quantity between 0 to 2000"
   ]
  },
  {
   "cell_type": "code",
   "execution_count": 270,
   "id": "9b9fd3c9-fcd7-4f6c-b66f-b67053035c6d",
   "metadata": {},
   "outputs": [
    {
     "name": "stdout",
     "output_type": "stream",
     "text": [
      "Sample proporation:  418\n",
      "Sample size:  2001\n",
      "hypothesized proportion 500\n",
      "Z-stats:  (-4.4965867640989e-16+7.343483471690938j)\n",
      "p_value:  2.0805579481475434e-13\n",
      "hypothesized proportion is significantly different from the proportion quantity\n"
     ]
    }
   ],
   "source": [
    "Pro_Quantity = 0 # Sample proportion\n",
    "for i in range(len(non_categorical_df['Quantity'])):\n",
    "    n = non_categorical_df['Quantity'].iloc[i]\n",
    "    if (0 <= n <= 2000):\n",
    "        Pro_Quantity += 1\n",
    "    \n",
    "Size_Quantity = len(non_categorical_df['Quantity'])\n",
    "\n",
    "print('Sample proporation: ', Pro_Quantity)\n",
    "print('Sample size: ', Size_Quantity)\n",
    "\n",
    "hypothesize_proportion = 500  # Hypothesized quantity proportion\n",
    "\n",
    "print('hypothesized proportion', hypothesize_proportion)\n",
    "\n",
    "standard_error = (hypothesize_proportion * (1 - hypothesize_proportion) / Size_Quantity) ** 0.5\n",
    "\n",
    "z_stats = (Pro_Quantity - hypothesize_proportion) / standard_error\n",
    "\n",
    "p_value = 2 * (1 - stats.norm.cdf(abs(z_stats)))\n",
    "\n",
    "print('Z-stats: ', z_stats)\n",
    "print('p_value: ', p_value)\n",
    "\n",
    "significance_level = 0.05\n",
    "\n",
    "if p_value < significance_level:\n",
    "    print('hypothesized proportion is significantly different from the proportion quantity')\n",
    "else:\n",
    "    print('hypothesized proportion is not significantly different from the proportion quantity')\n",
    "    "
   ]
  },
  {
   "cell_type": "markdown",
   "id": "4d5abd3a-2f16-4775-a714-520f70f04c9a",
   "metadata": {},
   "source": [
    "2. WEIGHT - checking proportion of weights between 4000 to 4300"
   ]
  },
  {
   "cell_type": "code",
   "execution_count": 272,
   "id": "e04a44e2-298a-4789-85e5-1489c1c0c2b0",
   "metadata": {},
   "outputs": [
    {
     "name": "stdout",
     "output_type": "stream",
     "text": [
      "Sample proporation:  100\n",
      "Sample size:  2001\n",
      "hypothesized proportion 100\n",
      "Z-stats:  0j\n",
      "p_value:  1.0\n",
      "hypothesized proportion is not significantly different from the proportion quantity\n"
     ]
    }
   ],
   "source": [
    "Pro_Weight = 0 # Sample proportion\n",
    "for i in range(len(non_categorical_df['Weight'])):\n",
    "    n = non_categorical_df['Weight'].iloc[i]\n",
    "    if (4000 <= n <= 4300):\n",
    "        Pro_Weight += 1\n",
    "    \n",
    "Size_Weight = len(non_categorical_df['Weight'])\n",
    "\n",
    "print('Sample proporation: ', Pro_Weight)\n",
    "print('Sample size: ', Size_Weight)\n",
    "\n",
    "hypothesize_proportion = 100  # Hypothesized quantity proportion\n",
    "\n",
    "print('hypothesized proportion', hypothesize_proportion)\n",
    "\n",
    "standard_error = (hypothesize_proportion * (1 - hypothesize_proportion) / Size_Weight) ** 0.5\n",
    "\n",
    "z_stats = (Pro_Weight - hypothesize_proportion) / standard_error\n",
    "\n",
    "p_value = 2 * (1 - stats.norm.cdf(abs(z_stats)))\n",
    "\n",
    "print('Z-stats: ', z_stats)\n",
    "print('p_value: ', p_value)\n",
    "\n",
    "significance_level = 0.05\n",
    "\n",
    "if p_value < significance_level:\n",
    "    print('hypothesized proportion is significantly different from the proportion quantity')\n",
    "else:\n",
    "    print('hypothesized proportion is not significantly different from the proportion quantity')\n",
    "    "
   ]
  },
  {
   "cell_type": "markdown",
   "id": "4a0dfc0e-d1cb-4f65-9e76-2a7fc1c1f7a1",
   "metadata": {},
   "source": [
    "3. VALUE - checking proportion of weights between 2600 to 3000"
   ]
  },
  {
   "cell_type": "code",
   "execution_count": 274,
   "id": "81505208-767a-489a-a6ec-ec94cb1b4446",
   "metadata": {},
   "outputs": [
    {
     "name": "stdout",
     "output_type": "stream",
     "text": [
      "Sample proporation:  82\n",
      "Sample size:  2001\n",
      "hypothesized proportion 50\n",
      "Z-stats:  (2.76688661560945e-15-45.1866875826706j)\n",
      "p_value:  0.0\n",
      "hypothesized proportion is significantly different from the proportion quantity\n"
     ]
    }
   ],
   "source": [
    "Pro_Value = 0 # Sample proportion\n",
    "for i in range(len(non_categorical_df['Value'])):\n",
    "    n = non_categorical_df['Value'].iloc[i]\n",
    "    if (2600 <= n <= 3000):\n",
    "        Pro_Value += 1\n",
    "    \n",
    "Size_Value = len(non_categorical_df['Value'])\n",
    "\n",
    "print('Sample proporation: ', Pro_Value)\n",
    "print('Sample size: ', Size_Value)\n",
    "\n",
    "hypothesize_proportion = 50  # Hypothesized quantity proportion\n",
    "\n",
    "print('hypothesized proportion', hypothesize_proportion)\n",
    "\n",
    "standard_error = (hypothesize_proportion * (1 - hypothesize_proportion) / Size_Value) ** 0.5\n",
    "\n",
    "z_stats = (Pro_Weight - hypothesize_proportion) / standard_error\n",
    "\n",
    "p_value = 2 * (1 - stats.norm.cdf(abs(z_stats)))\n",
    "\n",
    "print('Z-stats: ', z_stats)\n",
    "print('p_value: ', p_value)\n",
    "\n",
    "significance_level = 0.05\n",
    "\n",
    "if p_value < significance_level:\n",
    "    print('hypothesized proportion is significantly different from the proportion quantity')\n",
    "else:\n",
    "    print('hypothesized proportion is not significantly different from the proportion quantity')\n",
    "    "
   ]
  },
  {
   "cell_type": "markdown",
   "id": "99b4a9f0-fd24-4d24-84df-ab5bd8898ece",
   "metadata": {},
   "source": [
    "In the above 3 z-test for Quantities, Weights and Values we have assumed some hypothesized proportion and checked if the actual sample proportion matches to it or not.\n",
    "this help to check assuptions about the same.\n",
    "    "
   ]
  },
  {
   "cell_type": "markdown",
   "id": "4eb26507-4d02-4a5d-a4fa-78581ce094e5",
   "metadata": {},
   "source": [
    "# chi - sq test"
   ]
  },
  {
   "cell_type": "code",
   "execution_count": 288,
   "id": "04a33a32-4591-401b-86e8-f56b2d48e95f",
   "metadata": {},
   "outputs": [
    {
     "name": "stdout",
     "output_type": "stream",
     "text": [
      "chi_stats:  5827863.315831595\n",
      "p_value:  0.0\n",
      "Significant difference in proportions between the samples\n"
     ]
    }
   ],
   "source": [
    "data = np.array([[non_categorical_df['Quantity']],\n",
    "                [non_categorical_df['Weight']],\n",
    "                [non_categorical_df['Value']]])\n",
    "chi_stats, p_Value,_,_ = stats.chi2_contingency(data, correction = False)\n",
    "\n",
    "print('chi_stats: ', chi_stats)\n",
    "print('p_value: ', p_value)\n",
    "\n",
    "significance_level = 0.05\n",
    "\n",
    "if p_value < significance_level:\n",
    "    print(\"Significant difference in proportions between the samples\")\n",
    "\n",
    "else:\n",
    "    print(\"No significant difference in proportions between the samples\")"
   ]
  },
  {
   "cell_type": "code",
   "execution_count": 289,
   "id": "184d4568-39ef-4167-9eb1-399c8fbc4b6c",
   "metadata": {},
   "outputs": [],
   "source": [
    "# <<---------- end of test of proportion ---------------->>"
   ]
  },
  {
   "cell_type": "markdown",
   "id": "d8f765bc-4937-4230-b894-247bb67e27b3",
   "metadata": {},
   "source": [
    "# TEST OF CORRELATION"
   ]
  },
  {
   "cell_type": "markdown",
   "id": "8c8b1a8f-d6a0-4698-81ef-5f869bc69d08",
   "metadata": {},
   "source": [
    "# T - TEST "
   ]
  },
  {
   "cell_type": "code",
   "execution_count": 294,
   "id": "40962746-7ef4-434b-bf1f-44195a8ec750",
   "metadata": {},
   "outputs": [],
   "source": [
    "import numpy as np\n",
    "from scipy import stats"
   ]
  },
  {
   "cell_type": "markdown",
   "id": "032916b5-af03-40f5-8333-7898c47a9469",
   "metadata": {},
   "source": [
    "# TEST OF NORMALITY"
   ]
  },
  {
   "cell_type": "markdown",
   "id": "5ba10e34-eb5c-4539-b152-1e316a3eba25",
   "metadata": {},
   "source": [
    "# 1. Shapiro-Wilk Test"
   ]
  },
  {
   "cell_type": "code",
   "execution_count": 298,
   "id": "2a592aab-e4c7-4ac8-ba4f-a05490c7fe12",
   "metadata": {},
   "outputs": [
    {
     "name": "stdout",
     "output_type": "stream",
     "text": [
      "Shapiro-wilk Test for:  Quantity\n",
      "Test stats:  0.9537132622415965  and p-value:  1.0961067903315361e-24\n",
      "Reject (sample does not appear to be normally distributed)\n",
      "\n",
      "\n",
      "Shapiro-wilk Test for:  Weight\n",
      "Test stats:  0.9540214615276228  and p-value:  1.3053058752304964e-24\n",
      "Reject (sample does not appear to be normally distributed)\n",
      "\n",
      "\n",
      "Shapiro-wilk Test for:  Value\n",
      "Test stats:  0.9522233164736325  and p-value:  4.768817185647194e-25\n",
      "Reject (sample does not appear to be normally distributed)\n"
     ]
    }
   ],
   "source": [
    "def shapiro_test(sample, name):\n",
    "    stat, p_value = stats.shapiro(sample)\n",
    "    print(\"Shapiro-wilk Test for: \", name)\n",
    "    print(\"Test stats: \", stat, \" and p-value: \", p_value)\n",
    "\n",
    "    significance_level = 0.05\n",
    "    if p_value > significance_level:\n",
    "        print(\"Fail to reject (sample is consistent with normality)\")\n",
    "    else:\n",
    "        print(\"Reject (sample does not appear to be normally distributed)\")\n",
    "\n",
    "\n",
    "shapiro_test(non_categorical_df['Quantity'], \"Quantity\")\n",
    "print(\"\\n\")\n",
    "shapiro_test(non_categorical_df['Weight'], \"Weight\")\n",
    "print(\"\\n\")\n",
    "shapiro_test(non_categorical_df['Value'], \"Value\")\n"
   ]
  },
  {
   "cell_type": "markdown",
   "id": "02f5c172-64a8-4667-b0be-cb5f6c10df52",
   "metadata": {},
   "source": [
    "From the results of the Shapiro-Wilk tests, we can conclude that none of the three samples (Quantity, Weight, and Value) appear to follow a normal distribution, as indicated by their p-values being extremely small and the test statistics being significantly below 1. This suggests that the data may exhibit asymmetry and could follow other types of distributions, such as exponential, log-normal, or another non-normal distribution. It would be prudent to perform additional tests or use graphical methods to explore and confirm the underlying distribution of these samples."
   ]
  },
  {
   "cell_type": "markdown",
   "id": "1d3d44c7-dd0f-46dd-9c6c-b976a952e8db",
   "metadata": {},
   "source": [
    "<span style=\"color: red; font-weight: bold; font-size: 30px\">2. Kolmogorov-Smirnov Test</span>"
   ]
  },
  {
   "cell_type": "markdown",
   "id": "df762ed6-68f1-47fe-a043-5d43e39a187d",
   "metadata": {},
   "source": [
    "Now as the above test gives us the result that they do not belong to normal distribution, let's first check weather they are from same distribution or not."
   ]
  },
  {
   "cell_type": "code",
   "execution_count": 303,
   "id": "65af3ddc-1649-43de-acf6-5e93a4137837",
   "metadata": {},
   "outputs": [],
   "source": [
    "import numpy as np\n",
    "from scipy import stats"
   ]
  },
  {
   "cell_type": "code",
   "execution_count": 305,
   "id": "0357027c-8ef2-4f63-8671-97050d79ee8a",
   "metadata": {},
   "outputs": [
    {
     "name": "stdout",
     "output_type": "stream",
     "text": [
      "Quantity and Weight test stats:  0.487256371814093 p-value:  9.592722208168796e-216\n",
      "Weight and Value test stats:  0.5297351324337831 p-value:  3.871664147548859e-257\n",
      "Value and Quantity test stats:  0.046476761619190406 p-value:  0.02652492666065956\n",
      "\n",
      "\n",
      "Quantity and Weight are from different distribution (rejected)\n",
      "\n",
      "\n",
      "Weight and Value are from different distribution (rejected)\n",
      "\n",
      "\n",
      "Value and Quantity are from different distribution (rejected)\n"
     ]
    }
   ],
   "source": [
    "# performing K-S test\n",
    "statQ_W, p_valueQ_W = stats.ks_2samp(non_categorical_df['Quantity'], non_categorical_df['Weight'])\n",
    "statW_V, p_valueW_V = stats.ks_2samp(non_categorical_df['Weight'], non_categorical_df['Value'])\n",
    "statV_Q, p_valueV_Q = stats.ks_2samp(non_categorical_df['Value'], non_categorical_df['Quantity'])\n",
    "\n",
    "print('Quantity and Weight test stats: ', statQ_W, 'p-value: ', p_valueQ_W)\n",
    "print('Weight and Value test stats: ', statW_V, 'p-value: ', p_valueW_V)\n",
    "print('Value and Quantity test stats: ', statV_Q, 'p-value: ', p_valueV_Q)\n",
    "\n",
    "significance_level = 0.05\n",
    "print('\\n')\n",
    "\n",
    "if p_valueQ_W > significance_level:\n",
    "    print(\"Quantity and Weight are from same distribution (fail to reject)\")\n",
    "else:\n",
    "    print(\"Quantity and Weight are from different distribution (rejected)\")\n",
    "\n",
    "print('\\n')\n",
    "\n",
    "if p_valueW_V > significance_level:\n",
    "    print(\"Weight and Value are from same distribution (fail to reject)\")\n",
    "else:\n",
    "    print(\"Weight and Value are from different distribution (rejected)\")\n",
    "\n",
    "print('\\n')\n",
    "\n",
    "if p_valueV_Q > significance_level:\n",
    "    print(\"Value and Quantity are from same distribution (fail to reject)\")\n",
    "else:\n",
    "    print(\"Value and Quantity are from different distribution (rejected)\")\n"
   ]
  },
  {
   "cell_type": "markdown",
   "id": "2a5c0c29-0d7f-49c9-8bfa-149c6d6b5adf",
   "metadata": {},
   "source": [
    "Apart from Value and Quantity, they all neither normally distributed nor belongs to same distribution"
   ]
  },
  {
   "cell_type": "code",
   "execution_count": 308,
   "id": "75796499-1fd1-4d61-9ab1-3a7710ee27cf",
   "metadata": {},
   "outputs": [
    {
     "data": {
      "image/png": "[encoded data removed]",
      "text/plain": [
       "<Figure size 640x480 with 1 Axes>"
      ]
     },
     "metadata": {},
     "output_type": "display_data"
    }
   ],
   "source": [
    "import matplotlib.pyplot as plt\n",
    "import seaborn as sns\n",
    "import numpy as np\n",
    "\n",
    "sns.histplot(non_categorical_df['Quantity'], kde = True, color = 'blue')\n",
    "plt.title('Distribution with Density Curve', fontsize=15)\n",
    "plt.xlabel('Data Values')\n",
    "plt.ylabel('Frequency')\n",
    "\n",
    "# Show the plot\n",
    "plt.show()"
   ]
  },
  {
   "cell_type": "code",
   "execution_count": 309,
   "id": "4c28d7ea-0156-4472-8388-acf38c8a1934",
   "metadata": {},
   "outputs": [
    {
     "data": {
      "image/png": "[encoded data removed]",
      "text/plain": [
       "<Figure size 640x480 with 1 Axes>"
      ]
     },
     "metadata": {},
     "output_type": "display_data"
    }
   ],
   "source": [
    "sns.histplot(non_categorical_df['Weight'], kde = True, color = 'red')\n",
    "plt.title('Distribution with Density Curve', fontsize=15)\n",
    "plt.xlabel('Data Values')\n",
    "plt.ylabel('Frequency')\n",
    "\n",
    "# Show the plot\n",
    "plt.show()"
   ]
  },
  {
   "cell_type": "code",
   "execution_count": 311,
   "id": "729a1092-4540-4e2c-bba5-0cc234907dee",
   "metadata": {},
   "outputs": [
    {
     "data": {
      "image/png": "[encoded data removed]",
      "text/plain": [
       "<Figure size 640x480 with 1 Axes>"
      ]
     },
     "metadata": {},
     "output_type": "display_data"
    }
   ],
   "source": [
    "sns.histplot(non_categorical_df['Value'], kde = True, color = 'blue')\n",
    "plt.title('Distribution with Density Curve', fontsize=15)\n",
    "plt.xlabel('Data Values')\n",
    "plt.ylabel('Frequency')\n",
    "\n",
    "# Show the plot\n",
    "plt.show()"
   ]
  },
  {
   "cell_type": "markdown",
   "id": "e0f71426",
   "metadata": {},
   "source": [
    "## Regression"
   ]
  },
  {
   "cell_type": "markdown",
   "id": "68dda9d1",
   "metadata": {},
   "source": [
    "### Second-Degree Polynomial Regression"
   ]
  },
  {
   "cell_type": "code",
   "execution_count": 316,
   "id": "65947ed6",
   "metadata": {},
   "outputs": [
    {
     "name": "stdout",
     "output_type": "stream",
     "text": [
      "[ 0.00000000e+00 -1.16477624e-02  1.47227966e-06]\n",
      "2459.1824177465105\n"
     ]
    }
   ],
   "source": [
    "#Second-Degree Polynomial Regression (Imports)Predict Weight based on Value for Import transactions               \n",
    "import numpy as np\n",
    "import pandas as pd\n",
    "from sklearn.preprocessing import PolynomialFeatures\n",
    "from sklearn.linear_model import LinearRegression\n",
    "\n",
    "# Filter for Import transactions\n",
    "df_imports = sample[sample['Import_Export'] == 'Import']  # Adjust condition based on your column\n",
    "\n",
    "# Define dependent and independent variables\n",
    "X = df_imports[['Quantity']]  # Replace with actual column name\n",
    "y = df_imports['Weight']  # Replace with actual column name\n",
    "\n",
    "# Transform the input for a polynomial regression (second degree)\n",
    "poly = PolynomialFeatures(degree=2)\n",
    "X_poly = poly.fit_transform(X)\n",
    "#Second-Degree Polynomial Regression (Imports)Predict Weight based on Value for Import transactions.\n",
    "# Fit the polynomial regression model\n",
    "model = LinearRegression()\n",
    "model.fit(X_poly, y)\n",
    "\n",
    "# Output the model coefficients\n",
    "print(model.coef_)\n",
    "print(model.intercept_)"
   ]
  },
  {
   "cell_type": "markdown",
   "id": "a859985b",
   "metadata": {},
   "source": [
    "#### **Interpretation:**\r\n",
    "\r\n",
    "**Intercept:**\r\n",
    "\r\n",
    "The intercept of **2459.18** represents the estimated Weight when Quantity is zero. This is the baseline Weight when the effect of Quantity is not considered.\r\n",
    "\r\n",
    "**Coefficients:**\r\n",
    "\r\n",
    "- **Linear Term Coefficient (-0.0116):** This coefficient indicates a very slight negative relationship between Quantity and Weight. As Quantity increases, the Weight is predicted to decrease slightly. The magnitude of the effect is very small, suggesting that the linear effect of Quantity on Weight is minimal.\r\n",
    "\r\n",
    "- **Quadratic Term Coefficient (0.00000147):** This positive coefficient for the quadratic term implies that there is a very small curvature in the relationship between Quantity and Weight. The positive coefficient suggests that the rate of decrease in Weight slows down as Quantity increases, introducing a slight curvature to the relationship.\r\n",
    "\r\n",
    "---\r\n",
    "\r\n",
    "**Analysis:**\r\n",
    "\r\n",
    "The polynomial regression model shows that while there is a very weak linear and quadratic relationship between Quantity and Weight for Import transactions, the impact of these terms is minimal due to the small magnitude of the coefficients.\r\n",
    "\r\n",
    "- The negative linear term suggests that initially, an increase in Quantity might slightly decrease the Weight, but this effect is very minor.\r\n",
    "\r\n",
    "- The positive quadratic term indicates that as Quantity increases further, the effect of Quantity on Weight becomes less negative, suggesting that the decrease in Weight becomes less pronounced at higher quantities.\r\n",
    "\r\n",
    "Given the small magnitude of the coefficients, the polynomial model does not show a strong non-linear relationship between Quantity and Weight. The relationship is weak and may not have substantial practical implications.\r\n",
    "\r\n",
    "---\r\n",
    "\r\n",
    "**Conclusion:**\r\n",
    "\r\n",
    "The second-degree polynomial regression model indicates a very weak non-linear relationship between Quantity and Weight for Import transactions. The coefficients suggest that the effect of Quantity on Weight is minimal, with only minor variations introduced by the quadratic term. This analysis implies that other factors may be influencing Weight more significantly than Quantity, or that the relationship between these variables is inherently weak.\r\n"
   ]
  },
  {
   "cell_type": "markdown",
   "id": "8df142fe",
   "metadata": {},
   "source": [
    "### Logisitic Regression"
   ]
  },
  {
   "cell_type": "code",
   "execution_count": 320,
   "id": "e111a4c7",
   "metadata": {},
   "outputs": [
    {
     "name": "stdout",
     "output_type": "stream",
     "text": [
      "              precision    recall  f1-score   support\n",
      "\n",
      "      Export       0.50      0.11      0.18       193\n",
      "      Import       0.52      0.90      0.66       208\n",
      "\n",
      "    accuracy                           0.52       401\n",
      "   macro avg       0.51      0.50      0.42       401\n",
      "weighted avg       0.51      0.52      0.43       401\n",
      "\n"
     ]
    }
   ],
   "source": [
    "#Logistic Regression-Predict whether a transaction is Import or Export based on Value and Weight.\n",
    "import pandas as pd\n",
    "from sklearn.linear_model import LogisticRegression\n",
    "from sklearn.model_selection import train_test_split\n",
    "from sklearn.metrics import classification_report\n",
    "\n",
    "# Define dependent and independent variables\n",
    "X = sample[['Value', 'Weight']]  # Use 'sample' as the DataFrame variable name\n",
    "y = sample['Import_Export']  # Ensure 'Import_Export' contains binary values\n",
    "\n",
    "# Split the data into training and testing sets\n",
    "X_train, X_test, y_train, y_test = train_test_split(X, y, test_size=0.2, random_state=42)\n",
    "\n",
    "# Fit the logistic regression model\n",
    "model = LogisticRegression()\n",
    "model.fit(X_train, y_train)\n",
    "\n",
    "# Predicting and evaluating the model\n",
    "y_pred = model.predict(X_test)\n",
    "print(classification_report(y_test, y_pred))"
   ]
  },
  {
   "cell_type": "markdown",
   "id": "8512e849",
   "metadata": {},
   "source": [
    "#### **Model Evaluation Metrics:**\r\n",
    "\r\n",
    "- **Precision:** The proportion of positive identifications that were actually correct.\r\n",
    "- **Recall:** The proportion of actual positives that were correctly identified.\r\n",
    "- **F1-Score:** The harmonic mean of precision and recall, providing a single metric that balances both.\r\n",
    "- **Support:** The number of actual occurrences of the class in the specified dataset.\r\n",
    "\r\n",
    "---\r\n",
    "\r\n",
    "#### **Classification Report Summary:**\r\n",
    "\r\n",
    "#### **Export Transactions:**\r\n",
    "\r\n",
    "- **Precision: 0.50**  \r\n",
    "  Indicates that 50% of the transactions predicted as Export were correctly identified. This suggests a moderate level of accuracy in identifying Export transactions.\r\n",
    "\r\n",
    "- **Recall: 0.11**  \r\n",
    "  Indicates that only 11% of the actual Export transactions were correctly identified. This shows that the model has a low recall for Export transactions, meaning many actual Export transactions are missed.\r\n",
    "\r\n",
    "- **F1-Score: 0.18**  \r\n",
    "  This combines precision and recall into a single metric. The low F1-score reflects the challenges in balancing precision and recall for Export transactions.\r\n",
    "\r\n",
    "- **Support: 193**  \r\n",
    "  The number of actual Export transactions in the dataset.\r\n",
    "\r\n",
    "#### **Import Transactions:**\r\n",
    "\r\n",
    "- **Precision: 0.52**  \r\n",
    "  Indicates that 52% of the transactions predicted as Import were correctly identified. This reflects a moderate level of accuracy in predicting Import transactions.\r\n",
    "\r\n",
    "- **Recall: 0.90**  \r\n",
    "  Indicates that 90% of the actual Import transactions were correctly identified. This shows that the model performs relatively well in identifying Import transactions compared to Export transactions.\r\n",
    "\r\n",
    "- **F1-Score: 0.66**  \r\n",
    "  The F1-score is higher for Import transactions, indicating a better balance of precision and recall compared to Export transactions.\r\n",
    "\r\n",
    "- **Support: 208**  \r\n",
    "  The number of actual Import transactions in the dataset.\r\n",
    "\r\n",
    "---\r\n",
    "\r\n",
    "### **Overall Model Performance:**\r\n",
    "\r\n",
    "- **Accuracy: 0.52**  \r\n",
    "  The overall accuracy of the model is 52%, meaning the model correctly predicts the transaction type 52% of the time. This suggests that while the model is somewhat effective, it still has significant room for improvement.\r\n",
    "\r\n",
    "---\r\n",
    "\r\n",
    "#### **Macro Average:**\r\n",
    "\r\n",
    "- **Precision: 0.51**  \r\n",
    "- **Recall: 0.50**  \r\n",
    "- **F1-Score: 0.42**  \r\n",
    "\r\n",
    "The macro averages provide an overall performance measure without considering class imbalance. The model's performance is relatively balanced across classes, though still modest.\r\n",
    "\r\n",
    "---\r\n",
    "\r\n",
    "#### **Weighted Average:**\r\n",
    "\r\n",
    "- **Precision: 0.51**  \r\n",
    "- **Recall: 0.52**  \r\n",
    "- **F1-Score: 0.43**  \r\n",
    "\r\n",
    "The weighted averages consider the support for each class. The performance metrics are slightly lower compared to macro averages, reflecting the impact of class imbalance on the model's overall performance.\r\n",
    "\r\n",
    "---\r\n",
    "\r\n",
    "#### **Conclusion:**\r\n",
    "\r\n",
    "The logistic regression model demonstrates moderate performance with significant room for improvement. It struggles particularly with correctly identifying Export transactions, as evidenced by the low recall for this class. While the model performs better in identifying Import transactions, with a recall of 90%, the overall accuracy of 52% suggests that the model needs enhancements to improve its predictive power, especially for Export transactions.\r\n"
   ]
  },
  {
   "cell_type": "markdown",
   "id": "e41070ba",
   "metadata": {},
   "source": [
    "### Cross-sectional Polynomial Regression"
   ]
  },
  {
   "cell_type": "code",
   "execution_count": 324,
   "id": "cabf327c",
   "metadata": {},
   "outputs": [
    {
     "name": "stdout",
     "output_type": "stream",
     "text": [
      "[ 0.0000000e+00  1.0018317e+00 -9.8954006e-05]\n",
      "3522.5653029031337\n"
     ]
    }
   ],
   "source": [
    "#Cross-sectional Polynomial Regression (Top 5 Countries) - Model the relationship between Value and Quantity for transactions from the top 5 countries.\n",
    "import pandas as pd\n",
    "from sklearn.preprocessing import PolynomialFeatures\n",
    "from sklearn.linear_model import LinearRegression\n",
    "\n",
    "# Get the top 5 countries based on transaction count\n",
    "top_countries = sample['Country'].value_counts().head(5).index\n",
    "df_top = sample[sample['Country'].isin(top_countries)]\n",
    "\n",
    "# Define dependent and independent variables\n",
    "X = df_top[['Quantity']]  # Replace with actual column name\n",
    "y = df_top['Value']  # Replace with actual column name\n",
    "\n",
    "# Transform the input for a polynomial regression (second degree)\n",
    "poly = PolynomialFeatures(degree=2)\n",
    "X_poly = poly.fit_transform(X)\n",
    "\n",
    "# Fit the polynomial regression model\n",
    "model = LinearRegression()\n",
    "model.fit(X_poly, y)\n",
    "\n",
    "# Output the model coefficients\n",
    "print(model.coef_)\n",
    "print(model.intercept_)"
   ]
  }
 ],
 "metadata": {
  "kernelspec": {
   "display_name": "Python 3 (ipykernel)",
   "language": "python",
   "name": "python3"
  },
  "language_info": {
   "codemirror_mode": {
    "name": "ipython",
    "version": 3
   },
   "file_extension": ".py",
   "mimetype": "text/x-python",
   "name": "python",
   "nbconvert_exporter": "python",
   "pygments_lexer": "ipython3",
   "version": "3.12.4"
  }
 },
 "nbformat": 4,
 "nbformat_minor": 5
}
